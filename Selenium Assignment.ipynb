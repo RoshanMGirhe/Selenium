{
 "cells": [
  {
   "cell_type": "markdown",
   "id": "2b483a78",
   "metadata": {},
   "source": [
    "# Selenium Assignment"
   ]
  },
  {
   "cell_type": "code",
   "execution_count": 2,
   "id": "c2f2894d",
   "metadata": {},
   "outputs": [
    {
     "name": "stdout",
     "output_type": "stream",
     "text": [
      "Requirement already satisfied: selenium in c:\\users\\pravinkumar\\anaconda3\\lib\\site-packages (4.0.0)\n",
      "Requirement already satisfied: urllib3[secure]~=1.26 in c:\\users\\pravinkumar\\anaconda3\\lib\\site-packages (from selenium) (1.26.4)\n",
      "Requirement already satisfied: trio-websocket~=0.9 in c:\\users\\pravinkumar\\anaconda3\\lib\\site-packages (from selenium) (0.9.2)\n",
      "Requirement already satisfied: trio~=0.17 in c:\\users\\pravinkumar\\anaconda3\\lib\\site-packages (from selenium) (0.19.0)\n",
      "Requirement already satisfied: cffi>=1.14 in c:\\users\\pravinkumar\\anaconda3\\lib\\site-packages (from trio~=0.17->selenium) (1.14.5)\n",
      "Requirement already satisfied: sortedcontainers in c:\\users\\pravinkumar\\anaconda3\\lib\\site-packages (from trio~=0.17->selenium) (2.3.0)\n",
      "Requirement already satisfied: sniffio in c:\\users\\pravinkumar\\anaconda3\\lib\\site-packages (from trio~=0.17->selenium) (1.2.0)\n",
      "Requirement already satisfied: idna in c:\\users\\pravinkumar\\anaconda3\\lib\\site-packages (from trio~=0.17->selenium) (2.10)\n",
      "Requirement already satisfied: outcome in c:\\users\\pravinkumar\\anaconda3\\lib\\site-packages (from trio~=0.17->selenium) (1.1.0)\n",
      "Requirement already satisfied: attrs>=19.2.0 in c:\\users\\pravinkumar\\anaconda3\\lib\\site-packages (from trio~=0.17->selenium) (20.3.0)\n",
      "Requirement already satisfied: async-generator>=1.9 in c:\\users\\pravinkumar\\anaconda3\\lib\\site-packages (from trio~=0.17->selenium) (1.10)\n",
      "Requirement already satisfied: pycparser in c:\\users\\pravinkumar\\anaconda3\\lib\\site-packages (from cffi>=1.14->trio~=0.17->selenium) (2.20)\n",
      "Requirement already satisfied: wsproto>=0.14 in c:\\users\\pravinkumar\\anaconda3\\lib\\site-packages (from trio-websocket~=0.9->selenium) (1.0.0)\n",
      "Requirement already satisfied: pyOpenSSL>=0.14 in c:\\users\\pravinkumar\\anaconda3\\lib\\site-packages (from urllib3[secure]~=1.26->selenium) (20.0.1)\n",
      "Requirement already satisfied: cryptography>=1.3.4 in c:\\users\\pravinkumar\\anaconda3\\lib\\site-packages (from urllib3[secure]~=1.26->selenium) (3.4.7)\n",
      "Requirement already satisfied: certifi in c:\\users\\pravinkumar\\anaconda3\\lib\\site-packages (from urllib3[secure]~=1.26->selenium) (2020.12.5)\n",
      "Requirement already satisfied: six>=1.5.2 in c:\\users\\pravinkumar\\anaconda3\\lib\\site-packages (from pyOpenSSL>=0.14->urllib3[secure]~=1.26->selenium) (1.15.0)\n",
      "Requirement already satisfied: h11<1,>=0.9.0 in c:\\users\\pravinkumar\\anaconda3\\lib\\site-packages (from wsproto>=0.14->trio-websocket~=0.9->selenium) (0.12.0)\n",
      "Note: you may need to restart the kernel to use updated packages.\n"
     ]
    }
   ],
   "source": [
    "pip install selenium"
   ]
  },
  {
   "cell_type": "code",
   "execution_count": 2,
   "id": "25c68579",
   "metadata": {},
   "outputs": [],
   "source": [
    "import selenium\n",
    "import pandas as pd\n",
    "from selenium import webdriver "
   ]
  },
  {
   "cell_type": "code",
   "execution_count": 3,
   "id": "1c0c3d5a",
   "metadata": {},
   "outputs": [
    {
     "name": "stderr",
     "output_type": "stream",
     "text": [
      "<ipython-input-3-74894b0b362c>:1: DeprecationWarning: executable_path has been deprecated, please pass in a Service object\n",
      "  driver = webdriver.Chrome(r\"C:\\Users\\pravinkumar\\Downloads\\chromedriver_win32\\chromedriver.exe\")\n"
     ]
    }
   ],
   "source": [
    "driver = webdriver.Chrome(r\"C:\\Users\\pravinkumar\\Downloads\\chromedriver_win32\\chromedriver.exe\")"
   ]
  },
  {
   "cell_type": "markdown",
   "id": "0b7d1d38",
   "metadata": {},
   "source": [
    "Que 1 : To extract Data from Naukri.com about  Data Analyst"
   ]
  },
  {
   "cell_type": "code",
   "execution_count": 123,
   "id": "22f76a89",
   "metadata": {},
   "outputs": [],
   "source": [
    "url = \"https://www.naukri.com/\"\n",
    "driver.get(url)"
   ]
  },
  {
   "cell_type": "code",
   "execution_count": 23,
   "id": "1f8321b0",
   "metadata": {},
   "outputs": [
    {
     "name": "stderr",
     "output_type": "stream",
     "text": [
      "<ipython-input-23-6d1f6a1397e3>:1: DeprecationWarning: find_element_by_* commands are deprecated. Please use find_element() instead\n",
      "  search_job = driver.find_element_by_id('qsb-keyword-sugg')\n",
      "<ipython-input-23-6d1f6a1397e3>:3: DeprecationWarning: find_element_by_* commands are deprecated. Please use find_element() instead\n",
      "  search_loc = driver.find_element_by_xpath(\"//input[@id='qsb-location-sugg']\")\n"
     ]
    }
   ],
   "source": [
    "search_job = driver.find_element_by_id('qsb-keyword-sugg')\n",
    "search_job.send_keys('Data Analyst')\n",
    "search_loc = driver.find_element_by_xpath(\"//input[@id='qsb-location-sugg']\")\n",
    "search_loc.send_keys('Banglore')"
   ]
  },
  {
   "cell_type": "code",
   "execution_count": 24,
   "id": "b6757d51",
   "metadata": {},
   "outputs": [
    {
     "name": "stderr",
     "output_type": "stream",
     "text": [
      "<ipython-input-24-c3398795fffb>:1: DeprecationWarning: find_element_by_* commands are deprecated. Please use find_element() instead\n",
      "  search_button = driver.find_element_by_xpath(\"//div[@class='search-btn']/button\")\n"
     ]
    }
   ],
   "source": [
    "search_button = driver.find_element_by_xpath(\"//div[@class='search-btn']/button\")\n",
    "search_button.click()"
   ]
  },
  {
   "cell_type": "code",
   "execution_count": 25,
   "id": "4bfaed3c",
   "metadata": {},
   "outputs": [],
   "source": [
    "url1 = \"https://www.naukri.com/data-analyst-jobs-in-banglore?k=data%20analyst&l=banglore\""
   ]
  },
  {
   "cell_type": "code",
   "execution_count": 26,
   "id": "16d4d98c",
   "metadata": {},
   "outputs": [],
   "source": [
    "driver.get(url1)"
   ]
  },
  {
   "cell_type": "code",
   "execution_count": 27,
   "id": "e2b8e06f",
   "metadata": {},
   "outputs": [],
   "source": [
    "job_title = []\n",
    "company_name = []\n",
    "job_location = []\n",
    "exp = []"
   ]
  },
  {
   "cell_type": "code",
   "execution_count": 28,
   "id": "b4466f0c",
   "metadata": {},
   "outputs": [
    {
     "name": "stderr",
     "output_type": "stream",
     "text": [
      "<ipython-input-28-aa2c3de47eb3>:1: DeprecationWarning: find_elements_by_* commands are deprecated. Please use find_elements() instead\n",
      "  titles_job = driver.find_elements_by_xpath(\"//a[@class='title fw500 ellipsis']\")\n"
     ]
    },
    {
     "data": {
      "text/plain": [
       "[<selenium.webdriver.remote.webelement.WebElement (session=\"733326485d3282a342a8c0f18dcec7b9\", element=\"d0d4bb07-a7c3-4641-8b81-0cc0dce3e95b\")>,\n",
       " <selenium.webdriver.remote.webelement.WebElement (session=\"733326485d3282a342a8c0f18dcec7b9\", element=\"4882f7ea-c840-404e-a77e-3899d42e06d7\")>,\n",
       " <selenium.webdriver.remote.webelement.WebElement (session=\"733326485d3282a342a8c0f18dcec7b9\", element=\"ca2f4f5f-cba9-4348-87a9-8490097b6877\")>,\n",
       " <selenium.webdriver.remote.webelement.WebElement (session=\"733326485d3282a342a8c0f18dcec7b9\", element=\"77693bef-38be-4529-a6b3-201df8a8ff7c\")>,\n",
       " <selenium.webdriver.remote.webelement.WebElement (session=\"733326485d3282a342a8c0f18dcec7b9\", element=\"2077dd53-2c53-4c01-8ecd-133b5506b97d\")>,\n",
       " <selenium.webdriver.remote.webelement.WebElement (session=\"733326485d3282a342a8c0f18dcec7b9\", element=\"040073fb-9748-40ec-bfaf-238e591e8fbc\")>,\n",
       " <selenium.webdriver.remote.webelement.WebElement (session=\"733326485d3282a342a8c0f18dcec7b9\", element=\"5eb33361-9aaf-405f-b32e-8654d9e57526\")>,\n",
       " <selenium.webdriver.remote.webelement.WebElement (session=\"733326485d3282a342a8c0f18dcec7b9\", element=\"c25bf798-60ca-4af1-8bcf-e5b93928f445\")>,\n",
       " <selenium.webdriver.remote.webelement.WebElement (session=\"733326485d3282a342a8c0f18dcec7b9\", element=\"4d547145-1ded-4eb0-a2f6-34069c2b10ca\")>,\n",
       " <selenium.webdriver.remote.webelement.WebElement (session=\"733326485d3282a342a8c0f18dcec7b9\", element=\"16a55800-3389-461a-a145-7bbae9a40763\")>]"
      ]
     },
     "execution_count": 28,
     "metadata": {},
     "output_type": "execute_result"
    }
   ],
   "source": [
    "titles_job = driver.find_elements_by_xpath(\"//a[@class='title fw500 ellipsis']\")\n",
    "titles_job = titles_job[0:10]\n",
    "titles_job"
   ]
  },
  {
   "cell_type": "code",
   "execution_count": 29,
   "id": "e00192f2",
   "metadata": {},
   "outputs": [
    {
     "data": {
      "text/plain": [
       "['Data Analyst',\n",
       " 'Data Analyst - Flipkart Analytics',\n",
       " 'Senior Data Analyst',\n",
       " 'Business Data Analyst - Database Design/Mining',\n",
       " 'Urgent Openings For Data Analyst / Business Analyst',\n",
       " 'Professional 1 Data Analyst',\n",
       " 'Business Data Analyst(BigId) - Capco - Bangalore',\n",
       " 'Senior Data Analyst',\n",
       " 'Data Analyst',\n",
       " 'IT Risk Data Analyst-1']"
      ]
     },
     "execution_count": 29,
     "metadata": {},
     "output_type": "execute_result"
    }
   ],
   "source": [
    "for j in titles_job:\n",
    "    job_title.append(j.text)\n",
    "job_title[0:10]"
   ]
  },
  {
   "cell_type": "code",
   "execution_count": 30,
   "id": "6705d35d",
   "metadata": {},
   "outputs": [
    {
     "name": "stderr",
     "output_type": "stream",
     "text": [
      "<ipython-input-30-8fc9ac97e45f>:1: DeprecationWarning: find_elements_by_* commands are deprecated. Please use find_elements() instead\n",
      "  company_tag = driver.find_elements_by_xpath(\"//a[@class='subTitle ellipsis fleft']\")\n"
     ]
    },
    {
     "data": {
      "text/plain": [
       "[<selenium.webdriver.remote.webelement.WebElement (session=\"733326485d3282a342a8c0f18dcec7b9\", element=\"5b9d61ef-8eec-44c1-a0c2-a58a4deda297\")>,\n",
       " <selenium.webdriver.remote.webelement.WebElement (session=\"733326485d3282a342a8c0f18dcec7b9\", element=\"9a1e1394-4dd1-4e0c-8839-292073d3c622\")>,\n",
       " <selenium.webdriver.remote.webelement.WebElement (session=\"733326485d3282a342a8c0f18dcec7b9\", element=\"ff2bcbbb-c23e-44e3-9a84-b114b1283f09\")>,\n",
       " <selenium.webdriver.remote.webelement.WebElement (session=\"733326485d3282a342a8c0f18dcec7b9\", element=\"4cf5197f-db49-479a-9866-5491106aea3d\")>,\n",
       " <selenium.webdriver.remote.webelement.WebElement (session=\"733326485d3282a342a8c0f18dcec7b9\", element=\"b044c16a-15ab-4e77-a26e-3d05ad065737\")>,\n",
       " <selenium.webdriver.remote.webelement.WebElement (session=\"733326485d3282a342a8c0f18dcec7b9\", element=\"dd9ee9a3-a226-44e2-956b-be265ccb9564\")>,\n",
       " <selenium.webdriver.remote.webelement.WebElement (session=\"733326485d3282a342a8c0f18dcec7b9\", element=\"643f328c-0229-4c70-9b03-0cef00f7a83b\")>,\n",
       " <selenium.webdriver.remote.webelement.WebElement (session=\"733326485d3282a342a8c0f18dcec7b9\", element=\"4784f671-52e4-43c9-be4f-537be44864bc\")>,\n",
       " <selenium.webdriver.remote.webelement.WebElement (session=\"733326485d3282a342a8c0f18dcec7b9\", element=\"9a67ab8b-aea7-4317-81d5-ab86be00f210\")>,\n",
       " <selenium.webdriver.remote.webelement.WebElement (session=\"733326485d3282a342a8c0f18dcec7b9\", element=\"1a0a658e-4606-431f-b4f8-295425aa1cc4\")>]"
      ]
     },
     "execution_count": 30,
     "metadata": {},
     "output_type": "execute_result"
    }
   ],
   "source": [
    "company_tag = driver.find_elements_by_xpath(\"//a[@class='subTitle ellipsis fleft']\")\n",
    "company_tag[0:10]"
   ]
  },
  {
   "cell_type": "code",
   "execution_count": 31,
   "id": "6da47efc",
   "metadata": {},
   "outputs": [
    {
     "data": {
      "text/plain": [
       "['Rupeek Fintech Pvt Ltd',\n",
       " 'Flipkart',\n",
       " 'Advanced Computer Software',\n",
       " 'AugmatrixGo',\n",
       " 'Flipkart',\n",
       " 'DXC Technology',\n",
       " 'Capco Technologies Pvt Ltd',\n",
       " 'Red Hat',\n",
       " 'IDC CENTRE FOR CONSULTANCY AND RESEARCH PRIVATE L IMITED',\n",
       " 'Epsilon']"
      ]
     },
     "execution_count": 31,
     "metadata": {},
     "output_type": "execute_result"
    }
   ],
   "source": [
    "for i in company_tag:\n",
    "    company_name.append(i.text)\n",
    "company_name[0:10]"
   ]
  },
  {
   "cell_type": "code",
   "execution_count": 32,
   "id": "03842f25",
   "metadata": {},
   "outputs": [
    {
     "name": "stderr",
     "output_type": "stream",
     "text": [
      "<ipython-input-32-fc55430f8cc0>:1: DeprecationWarning: find_elements_by_* commands are deprecated. Please use find_elements() instead\n",
      "  location_tag = driver.find_elements_by_xpath(\"//li[@class='fleft grey-text br2 placeHolderLi location']\")\n"
     ]
    },
    {
     "data": {
      "text/plain": [
       "[<selenium.webdriver.remote.webelement.WebElement (session=\"733326485d3282a342a8c0f18dcec7b9\", element=\"a342b7b2-9292-42e7-8fb2-af8be3936fcf\")>,\n",
       " <selenium.webdriver.remote.webelement.WebElement (session=\"733326485d3282a342a8c0f18dcec7b9\", element=\"324f0c9b-9395-4bf9-b1a1-2aeae46aacbe\")>,\n",
       " <selenium.webdriver.remote.webelement.WebElement (session=\"733326485d3282a342a8c0f18dcec7b9\", element=\"9488ccd4-6232-4444-a082-6075ea68c623\")>,\n",
       " <selenium.webdriver.remote.webelement.WebElement (session=\"733326485d3282a342a8c0f18dcec7b9\", element=\"a89f9838-3eff-4fb3-8546-e666ea3729a6\")>,\n",
       " <selenium.webdriver.remote.webelement.WebElement (session=\"733326485d3282a342a8c0f18dcec7b9\", element=\"9eca80c9-ad2a-48d7-a1be-54233789da7d\")>,\n",
       " <selenium.webdriver.remote.webelement.WebElement (session=\"733326485d3282a342a8c0f18dcec7b9\", element=\"0dad7947-2345-4fc2-b59e-999af24c30cb\")>,\n",
       " <selenium.webdriver.remote.webelement.WebElement (session=\"733326485d3282a342a8c0f18dcec7b9\", element=\"8cf9c942-621b-464f-9d33-6a5c6ba72ee2\")>,\n",
       " <selenium.webdriver.remote.webelement.WebElement (session=\"733326485d3282a342a8c0f18dcec7b9\", element=\"13ce5861-87c5-4f8c-b1e9-8c2d826a360a\")>,\n",
       " <selenium.webdriver.remote.webelement.WebElement (session=\"733326485d3282a342a8c0f18dcec7b9\", element=\"773927ec-4b3b-4b06-8d46-34617564957e\")>,\n",
       " <selenium.webdriver.remote.webelement.WebElement (session=\"733326485d3282a342a8c0f18dcec7b9\", element=\"64edc4ab-7b55-425e-94b4-adf7a7ad3cdd\")>]"
      ]
     },
     "execution_count": 32,
     "metadata": {},
     "output_type": "execute_result"
    }
   ],
   "source": [
    "location_tag = driver.find_elements_by_xpath(\"//li[@class='fleft grey-text br2 placeHolderLi location']\")\n",
    "location_tag[0:10]"
   ]
  },
  {
   "cell_type": "code",
   "execution_count": 33,
   "id": "6289d62b",
   "metadata": {},
   "outputs": [
    {
     "data": {
      "text/plain": [
       "['Bangalore/Bengaluru',\n",
       " 'Bangalore/Bengaluru(Bellandur)',\n",
       " 'Bangalore/Bengaluru',\n",
       " 'Bangalore/Bengaluru',\n",
       " 'Bangalore/Bengaluru\\n(WFH during Covid)',\n",
       " 'Bangalore/Bengaluru',\n",
       " 'Bangalore/Bengaluru',\n",
       " 'Bangalore/Bengaluru',\n",
       " 'Bangalore/Bengaluru',\n",
       " 'Bangalore/Bengaluru']"
      ]
     },
     "execution_count": 33,
     "metadata": {},
     "output_type": "execute_result"
    }
   ],
   "source": [
    "for i in location_tag:\n",
    "    loc = 'i.text'\n",
    "    job_location.append(i.text)\n",
    "job_location[0:10]"
   ]
  },
  {
   "cell_type": "code",
   "execution_count": 34,
   "id": "66f3c7d7",
   "metadata": {},
   "outputs": [
    {
     "name": "stderr",
     "output_type": "stream",
     "text": [
      "<ipython-input-34-bb72a43f1c3a>:1: DeprecationWarning: find_elements_by_* commands are deprecated. Please use find_elements() instead\n",
      "  exp_tag = driver.find_elements_by_xpath(\"//li[@class='fleft grey-text br2 placeHolderLi experience']\")\n"
     ]
    },
    {
     "data": {
      "text/plain": [
       "[<selenium.webdriver.remote.webelement.WebElement (session=\"733326485d3282a342a8c0f18dcec7b9\", element=\"373ed811-7885-44aa-b805-50482ea02fe6\")>,\n",
       " <selenium.webdriver.remote.webelement.WebElement (session=\"733326485d3282a342a8c0f18dcec7b9\", element=\"c589ae0f-d2a8-49c7-a87d-8f5edf95e271\")>,\n",
       " <selenium.webdriver.remote.webelement.WebElement (session=\"733326485d3282a342a8c0f18dcec7b9\", element=\"c47ec461-1d7b-4daf-9481-06a060bd9bac\")>,\n",
       " <selenium.webdriver.remote.webelement.WebElement (session=\"733326485d3282a342a8c0f18dcec7b9\", element=\"2dbf3253-fd09-4158-ab63-8da9fc24e657\")>,\n",
       " <selenium.webdriver.remote.webelement.WebElement (session=\"733326485d3282a342a8c0f18dcec7b9\", element=\"bdc3e21a-31de-4476-812d-8c9e503ec19f\")>,\n",
       " <selenium.webdriver.remote.webelement.WebElement (session=\"733326485d3282a342a8c0f18dcec7b9\", element=\"de9768b8-8b06-4a4f-9a16-f474841a05cf\")>,\n",
       " <selenium.webdriver.remote.webelement.WebElement (session=\"733326485d3282a342a8c0f18dcec7b9\", element=\"938e73c3-e5ca-4bbd-a947-e057ea6e6878\")>,\n",
       " <selenium.webdriver.remote.webelement.WebElement (session=\"733326485d3282a342a8c0f18dcec7b9\", element=\"f1948750-874c-4b5b-ae1a-5e822e8a1c11\")>,\n",
       " <selenium.webdriver.remote.webelement.WebElement (session=\"733326485d3282a342a8c0f18dcec7b9\", element=\"9267d2fa-1d78-46fb-87d2-d7de1bb4dbcc\")>,\n",
       " <selenium.webdriver.remote.webelement.WebElement (session=\"733326485d3282a342a8c0f18dcec7b9\", element=\"4133d97f-6db9-4970-a95d-5d989d74c505\")>]"
      ]
     },
     "execution_count": 34,
     "metadata": {},
     "output_type": "execute_result"
    }
   ],
   "source": [
    "exp_tag = driver.find_elements_by_xpath(\"//li[@class='fleft grey-text br2 placeHolderLi experience']\")\n",
    "exp_tag[0:10]"
   ]
  },
  {
   "cell_type": "code",
   "execution_count": 35,
   "id": "00f119e5",
   "metadata": {},
   "outputs": [
    {
     "data": {
      "text/plain": [
       "['0-2 Yrs',\n",
       " '0-3 Yrs',\n",
       " '3-5 Yrs',\n",
       " '2-5 Yrs',\n",
       " '1-6 Yrs',\n",
       " '3-8 Yrs',\n",
       " '3-8 Yrs',\n",
       " '2-5 Yrs',\n",
       " '3-7 Yrs',\n",
       " '5-8 Yrs']"
      ]
     },
     "execution_count": 35,
     "metadata": {},
     "output_type": "execute_result"
    }
   ],
   "source": [
    "for i in exp_tag:\n",
    "    exp_job = 'i.text'\n",
    "    exp.append(i.text)\n",
    "exp[0:10]"
   ]
  },
  {
   "cell_type": "code",
   "execution_count": 36,
   "id": "9896fe23",
   "metadata": {},
   "outputs": [],
   "source": [
    "job = pd.DataFrame({})\n",
    "job['title']=job_title[0:10]\n",
    "job['company name']=company_name[0:10]\n",
    "job['location']=job_location[0:10]\n",
    "job['experience']=exp[0:10]"
   ]
  },
  {
   "cell_type": "code",
   "execution_count": 37,
   "id": "caf78ab9",
   "metadata": {},
   "outputs": [
    {
     "data": {
      "text/html": [
       "<div>\n",
       "<style scoped>\n",
       "    .dataframe tbody tr th:only-of-type {\n",
       "        vertical-align: middle;\n",
       "    }\n",
       "\n",
       "    .dataframe tbody tr th {\n",
       "        vertical-align: top;\n",
       "    }\n",
       "\n",
       "    .dataframe thead th {\n",
       "        text-align: right;\n",
       "    }\n",
       "</style>\n",
       "<table border=\"1\" class=\"dataframe\">\n",
       "  <thead>\n",
       "    <tr style=\"text-align: right;\">\n",
       "      <th></th>\n",
       "      <th>title</th>\n",
       "      <th>company name</th>\n",
       "      <th>location</th>\n",
       "      <th>experience</th>\n",
       "    </tr>\n",
       "  </thead>\n",
       "  <tbody>\n",
       "    <tr>\n",
       "      <th>0</th>\n",
       "      <td>Data Analyst</td>\n",
       "      <td>Rupeek Fintech Pvt Ltd</td>\n",
       "      <td>Bangalore/Bengaluru</td>\n",
       "      <td>0-2 Yrs</td>\n",
       "    </tr>\n",
       "    <tr>\n",
       "      <th>1</th>\n",
       "      <td>Data Analyst - Flipkart Analytics</td>\n",
       "      <td>Flipkart</td>\n",
       "      <td>Bangalore/Bengaluru(Bellandur)</td>\n",
       "      <td>0-3 Yrs</td>\n",
       "    </tr>\n",
       "    <tr>\n",
       "      <th>2</th>\n",
       "      <td>Senior Data Analyst</td>\n",
       "      <td>Advanced Computer Software</td>\n",
       "      <td>Bangalore/Bengaluru</td>\n",
       "      <td>3-5 Yrs</td>\n",
       "    </tr>\n",
       "    <tr>\n",
       "      <th>3</th>\n",
       "      <td>Business Data Analyst - Database Design/Mining</td>\n",
       "      <td>AugmatrixGo</td>\n",
       "      <td>Bangalore/Bengaluru</td>\n",
       "      <td>2-5 Yrs</td>\n",
       "    </tr>\n",
       "    <tr>\n",
       "      <th>4</th>\n",
       "      <td>Urgent Openings For Data Analyst / Business An...</td>\n",
       "      <td>Flipkart</td>\n",
       "      <td>Bangalore/Bengaluru\\n(WFH during Covid)</td>\n",
       "      <td>1-6 Yrs</td>\n",
       "    </tr>\n",
       "    <tr>\n",
       "      <th>5</th>\n",
       "      <td>Professional 1 Data Analyst</td>\n",
       "      <td>DXC Technology</td>\n",
       "      <td>Bangalore/Bengaluru</td>\n",
       "      <td>3-8 Yrs</td>\n",
       "    </tr>\n",
       "    <tr>\n",
       "      <th>6</th>\n",
       "      <td>Business Data Analyst(BigId) - Capco - Bangalore</td>\n",
       "      <td>Capco Technologies Pvt Ltd</td>\n",
       "      <td>Bangalore/Bengaluru</td>\n",
       "      <td>3-8 Yrs</td>\n",
       "    </tr>\n",
       "    <tr>\n",
       "      <th>7</th>\n",
       "      <td>Senior Data Analyst</td>\n",
       "      <td>Red Hat</td>\n",
       "      <td>Bangalore/Bengaluru</td>\n",
       "      <td>2-5 Yrs</td>\n",
       "    </tr>\n",
       "    <tr>\n",
       "      <th>8</th>\n",
       "      <td>Data Analyst</td>\n",
       "      <td>IDC CENTRE FOR CONSULTANCY AND RESEARCH PRIVAT...</td>\n",
       "      <td>Bangalore/Bengaluru</td>\n",
       "      <td>3-7 Yrs</td>\n",
       "    </tr>\n",
       "    <tr>\n",
       "      <th>9</th>\n",
       "      <td>IT Risk Data Analyst-1</td>\n",
       "      <td>Epsilon</td>\n",
       "      <td>Bangalore/Bengaluru</td>\n",
       "      <td>5-8 Yrs</td>\n",
       "    </tr>\n",
       "  </tbody>\n",
       "</table>\n",
       "</div>"
      ],
      "text/plain": [
       "                                               title  \\\n",
       "0                                       Data Analyst   \n",
       "1                  Data Analyst - Flipkart Analytics   \n",
       "2                                Senior Data Analyst   \n",
       "3     Business Data Analyst - Database Design/Mining   \n",
       "4  Urgent Openings For Data Analyst / Business An...   \n",
       "5                        Professional 1 Data Analyst   \n",
       "6   Business Data Analyst(BigId) - Capco - Bangalore   \n",
       "7                                Senior Data Analyst   \n",
       "8                                       Data Analyst   \n",
       "9                             IT Risk Data Analyst-1   \n",
       "\n",
       "                                        company name  \\\n",
       "0                             Rupeek Fintech Pvt Ltd   \n",
       "1                                           Flipkart   \n",
       "2                         Advanced Computer Software   \n",
       "3                                        AugmatrixGo   \n",
       "4                                           Flipkart   \n",
       "5                                     DXC Technology   \n",
       "6                         Capco Technologies Pvt Ltd   \n",
       "7                                            Red Hat   \n",
       "8  IDC CENTRE FOR CONSULTANCY AND RESEARCH PRIVAT...   \n",
       "9                                            Epsilon   \n",
       "\n",
       "                                  location experience  \n",
       "0                      Bangalore/Bengaluru    0-2 Yrs  \n",
       "1           Bangalore/Bengaluru(Bellandur)    0-3 Yrs  \n",
       "2                      Bangalore/Bengaluru    3-5 Yrs  \n",
       "3                      Bangalore/Bengaluru    2-5 Yrs  \n",
       "4  Bangalore/Bengaluru\\n(WFH during Covid)    1-6 Yrs  \n",
       "5                      Bangalore/Bengaluru    3-8 Yrs  \n",
       "6                      Bangalore/Bengaluru    3-8 Yrs  \n",
       "7                      Bangalore/Bengaluru    2-5 Yrs  \n",
       "8                      Bangalore/Bengaluru    3-7 Yrs  \n",
       "9                      Bangalore/Bengaluru    5-8 Yrs  "
      ]
     },
     "execution_count": 37,
     "metadata": {},
     "output_type": "execute_result"
    }
   ],
   "source": [
    "job"
   ]
  },
  {
   "cell_type": "markdown",
   "id": "3c39a75d",
   "metadata": {},
   "source": [
    "Que2 : To extract Data from Naukri.com about Data Scientist for Banglore position"
   ]
  },
  {
   "cell_type": "code",
   "execution_count": 116,
   "id": "8a6ce234",
   "metadata": {},
   "outputs": [
    {
     "ename": "WebDriverException",
     "evalue": "Message: unknown error: net::ERR_NAME_NOT_RESOLVED\n  (Session info: chrome=95.0.4638.69)\nStacktrace:\nBacktrace:\n\tOrdinal0 [0x012206F3+2492147]\n\tOrdinal0 [0x011B9BD1+2071505]\n\tOrdinal0 [0x010C2478+1057912]\n\tOrdinal0 [0x010BF091+1044625]\n\tOrdinal0 [0x010B52B2+1004210]\n\tOrdinal0 [0x010B5EB2+1007282]\n\tOrdinal0 [0x010B54FA+1004794]\n\tOrdinal0 [0x010B4BB8+1002424]\n\tOrdinal0 [0x010B3D4D+998733]\n\tOrdinal0 [0x010B4006+999430]\n\tOrdinal0 [0x010C3A4A+1063498]\n\tOrdinal0 [0x011154BD+1397949]\n\tOrdinal0 [0x011057C3+1333187]\n\tOrdinal0 [0x01114F38+1396536]\n\tOrdinal0 [0x0110568B+1332875]\n\tOrdinal0 [0x010E21D4+1188308]\n\tOrdinal0 [0x010E302F+1191983]\n\tGetHandleVerifier [0x013A67A6+1545030]\n\tGetHandleVerifier [0x0145105C+2243580]\n\tGetHandleVerifier [0x012ABC97+518199]\n\tGetHandleVerifier [0x012AAD80+514336]\n\tOrdinal0 [0x011BED2D+2092333]\n\tOrdinal0 [0x011C2EE8+2109160]\n\tOrdinal0 [0x011C3022+2109474]\n\tOrdinal0 [0x011CCB71+2149233]\n\tBaseThreadInitThunk [0x74CB6A14+36]\n\tRtlInitializeExceptionChain [0x7730A9EF+143]\n\tRtlInitializeExceptionChain [0x7730A9BA+90]\n",
     "output_type": "error",
     "traceback": [
      "\u001b[1;31m---------------------------------------------------------------------------\u001b[0m",
      "\u001b[1;31mWebDriverException\u001b[0m                        Traceback (most recent call last)",
      "\u001b[1;32m<ipython-input-116-76d57e2498f0>\u001b[0m in \u001b[0;36m<module>\u001b[1;34m\u001b[0m\n\u001b[1;32m----> 1\u001b[1;33m \u001b[0mdriver\u001b[0m\u001b[1;33m.\u001b[0m\u001b[0mget\u001b[0m\u001b[1;33m(\u001b[0m\u001b[1;34m\"https://www.naukri.com/\"\u001b[0m\u001b[1;33m)\u001b[0m\u001b[1;33m\u001b[0m\u001b[1;33m\u001b[0m\u001b[0m\n\u001b[0m",
      "\u001b[1;32m~\\anaconda3\\lib\\site-packages\\selenium\\webdriver\\remote\\webdriver.py\u001b[0m in \u001b[0;36mget\u001b[1;34m(self, url)\u001b[0m\n\u001b[0;32m    428\u001b[0m         \u001b[0mLoads\u001b[0m \u001b[0ma\u001b[0m \u001b[0mweb\u001b[0m \u001b[0mpage\u001b[0m \u001b[1;32min\u001b[0m \u001b[0mthe\u001b[0m \u001b[0mcurrent\u001b[0m \u001b[0mbrowser\u001b[0m \u001b[0msession\u001b[0m\u001b[1;33m.\u001b[0m\u001b[1;33m\u001b[0m\u001b[1;33m\u001b[0m\u001b[0m\n\u001b[0;32m    429\u001b[0m         \"\"\"\n\u001b[1;32m--> 430\u001b[1;33m         \u001b[0mself\u001b[0m\u001b[1;33m.\u001b[0m\u001b[0mexecute\u001b[0m\u001b[1;33m(\u001b[0m\u001b[0mCommand\u001b[0m\u001b[1;33m.\u001b[0m\u001b[0mGET\u001b[0m\u001b[1;33m,\u001b[0m \u001b[1;33m{\u001b[0m\u001b[1;34m'url'\u001b[0m\u001b[1;33m:\u001b[0m \u001b[0murl\u001b[0m\u001b[1;33m}\u001b[0m\u001b[1;33m)\u001b[0m\u001b[1;33m\u001b[0m\u001b[1;33m\u001b[0m\u001b[0m\n\u001b[0m\u001b[0;32m    431\u001b[0m \u001b[1;33m\u001b[0m\u001b[0m\n\u001b[0;32m    432\u001b[0m     \u001b[1;33m@\u001b[0m\u001b[0mproperty\u001b[0m\u001b[1;33m\u001b[0m\u001b[1;33m\u001b[0m\u001b[0m\n",
      "\u001b[1;32m~\\anaconda3\\lib\\site-packages\\selenium\\webdriver\\remote\\webdriver.py\u001b[0m in \u001b[0;36mexecute\u001b[1;34m(self, driver_command, params)\u001b[0m\n\u001b[0;32m    416\u001b[0m         \u001b[0mresponse\u001b[0m \u001b[1;33m=\u001b[0m \u001b[0mself\u001b[0m\u001b[1;33m.\u001b[0m\u001b[0mcommand_executor\u001b[0m\u001b[1;33m.\u001b[0m\u001b[0mexecute\u001b[0m\u001b[1;33m(\u001b[0m\u001b[0mdriver_command\u001b[0m\u001b[1;33m,\u001b[0m \u001b[0mparams\u001b[0m\u001b[1;33m)\u001b[0m\u001b[1;33m\u001b[0m\u001b[1;33m\u001b[0m\u001b[0m\n\u001b[0;32m    417\u001b[0m         \u001b[1;32mif\u001b[0m \u001b[0mresponse\u001b[0m\u001b[1;33m:\u001b[0m\u001b[1;33m\u001b[0m\u001b[1;33m\u001b[0m\u001b[0m\n\u001b[1;32m--> 418\u001b[1;33m             \u001b[0mself\u001b[0m\u001b[1;33m.\u001b[0m\u001b[0merror_handler\u001b[0m\u001b[1;33m.\u001b[0m\u001b[0mcheck_response\u001b[0m\u001b[1;33m(\u001b[0m\u001b[0mresponse\u001b[0m\u001b[1;33m)\u001b[0m\u001b[1;33m\u001b[0m\u001b[1;33m\u001b[0m\u001b[0m\n\u001b[0m\u001b[0;32m    419\u001b[0m             response['value'] = self._unwrap_value(\n\u001b[0;32m    420\u001b[0m                 response.get('value', None))\n",
      "\u001b[1;32m~\\anaconda3\\lib\\site-packages\\selenium\\webdriver\\remote\\errorhandler.py\u001b[0m in \u001b[0;36mcheck_response\u001b[1;34m(self, response)\u001b[0m\n\u001b[0;32m    241\u001b[0m                 \u001b[0malert_text\u001b[0m \u001b[1;33m=\u001b[0m \u001b[0mvalue\u001b[0m\u001b[1;33m[\u001b[0m\u001b[1;34m'alert'\u001b[0m\u001b[1;33m]\u001b[0m\u001b[1;33m.\u001b[0m\u001b[0mget\u001b[0m\u001b[1;33m(\u001b[0m\u001b[1;34m'text'\u001b[0m\u001b[1;33m)\u001b[0m\u001b[1;33m\u001b[0m\u001b[1;33m\u001b[0m\u001b[0m\n\u001b[0;32m    242\u001b[0m             \u001b[1;32mraise\u001b[0m \u001b[0mexception_class\u001b[0m\u001b[1;33m(\u001b[0m\u001b[0mmessage\u001b[0m\u001b[1;33m,\u001b[0m \u001b[0mscreen\u001b[0m\u001b[1;33m,\u001b[0m \u001b[0mstacktrace\u001b[0m\u001b[1;33m,\u001b[0m \u001b[0malert_text\u001b[0m\u001b[1;33m)\u001b[0m  \u001b[1;31m# type: ignore[call-arg]  # mypy is not smart enough here\u001b[0m\u001b[1;33m\u001b[0m\u001b[1;33m\u001b[0m\u001b[0m\n\u001b[1;32m--> 243\u001b[1;33m         \u001b[1;32mraise\u001b[0m \u001b[0mexception_class\u001b[0m\u001b[1;33m(\u001b[0m\u001b[0mmessage\u001b[0m\u001b[1;33m,\u001b[0m \u001b[0mscreen\u001b[0m\u001b[1;33m,\u001b[0m \u001b[0mstacktrace\u001b[0m\u001b[1;33m)\u001b[0m\u001b[1;33m\u001b[0m\u001b[1;33m\u001b[0m\u001b[0m\n\u001b[0m\u001b[0;32m    244\u001b[0m \u001b[1;33m\u001b[0m\u001b[0m\n\u001b[0;32m    245\u001b[0m     \u001b[1;32mdef\u001b[0m \u001b[0m_value_or_default\u001b[0m\u001b[1;33m(\u001b[0m\u001b[0mself\u001b[0m\u001b[1;33m,\u001b[0m \u001b[0mobj\u001b[0m\u001b[1;33m:\u001b[0m \u001b[0mMapping\u001b[0m\u001b[1;33m[\u001b[0m\u001b[0m_KT\u001b[0m\u001b[1;33m,\u001b[0m \u001b[0m_VT\u001b[0m\u001b[1;33m]\u001b[0m\u001b[1;33m,\u001b[0m \u001b[0mkey\u001b[0m\u001b[1;33m:\u001b[0m \u001b[0m_KT\u001b[0m\u001b[1;33m,\u001b[0m \u001b[0mdefault\u001b[0m\u001b[1;33m:\u001b[0m \u001b[0m_VT\u001b[0m\u001b[1;33m)\u001b[0m \u001b[1;33m->\u001b[0m \u001b[0m_VT\u001b[0m\u001b[1;33m:\u001b[0m\u001b[1;33m\u001b[0m\u001b[1;33m\u001b[0m\u001b[0m\n",
      "\u001b[1;31mWebDriverException\u001b[0m: Message: unknown error: net::ERR_NAME_NOT_RESOLVED\n  (Session info: chrome=95.0.4638.69)\nStacktrace:\nBacktrace:\n\tOrdinal0 [0x012206F3+2492147]\n\tOrdinal0 [0x011B9BD1+2071505]\n\tOrdinal0 [0x010C2478+1057912]\n\tOrdinal0 [0x010BF091+1044625]\n\tOrdinal0 [0x010B52B2+1004210]\n\tOrdinal0 [0x010B5EB2+1007282]\n\tOrdinal0 [0x010B54FA+1004794]\n\tOrdinal0 [0x010B4BB8+1002424]\n\tOrdinal0 [0x010B3D4D+998733]\n\tOrdinal0 [0x010B4006+999430]\n\tOrdinal0 [0x010C3A4A+1063498]\n\tOrdinal0 [0x011154BD+1397949]\n\tOrdinal0 [0x011057C3+1333187]\n\tOrdinal0 [0x01114F38+1396536]\n\tOrdinal0 [0x0110568B+1332875]\n\tOrdinal0 [0x010E21D4+1188308]\n\tOrdinal0 [0x010E302F+1191983]\n\tGetHandleVerifier [0x013A67A6+1545030]\n\tGetHandleVerifier [0x0145105C+2243580]\n\tGetHandleVerifier [0x012ABC97+518199]\n\tGetHandleVerifier [0x012AAD80+514336]\n\tOrdinal0 [0x011BED2D+2092333]\n\tOrdinal0 [0x011C2EE8+2109160]\n\tOrdinal0 [0x011C3022+2109474]\n\tOrdinal0 [0x011CCB71+2149233]\n\tBaseThreadInitThunk [0x74CB6A14+36]\n\tRtlInitializeExceptionChain [0x7730A9EF+143]\n\tRtlInitializeExceptionChain [0x7730A9BA+90]\n"
     ]
    }
   ],
   "source": [
    "driver.get(\"https://www.naukri.com/\")"
   ]
  },
  {
   "cell_type": "code",
   "execution_count": 48,
   "id": "c7f68495",
   "metadata": {},
   "outputs": [
    {
     "name": "stderr",
     "output_type": "stream",
     "text": [
      "<ipython-input-48-146e0692ba35>:1: DeprecationWarning: find_element_by_* commands are deprecated. Please use find_element() instead\n",
      "  search_ds_job = driver.find_element_by_id('qsb-keyword-sugg')\n",
      "<ipython-input-48-146e0692ba35>:3: DeprecationWarning: find_element_by_* commands are deprecated. Please use find_element() instead\n",
      "  search_ds_loc = driver.find_element_by_xpath(\"//input[@id='qsb-location-sugg']\")\n"
     ]
    }
   ],
   "source": [
    "search_ds_job = driver.find_element_by_id('qsb-keyword-sugg')\n",
    "search_ds_job.send_keys('Data Scientist')\n",
    "search_ds_loc = driver.find_element_by_xpath(\"//input[@id='qsb-location-sugg']\")\n",
    "search_ds_loc.send_keys('Banglore')"
   ]
  },
  {
   "cell_type": "code",
   "execution_count": 49,
   "id": "0157735c",
   "metadata": {},
   "outputs": [
    {
     "name": "stderr",
     "output_type": "stream",
     "text": [
      "<ipython-input-49-c3398795fffb>:1: DeprecationWarning: find_element_by_* commands are deprecated. Please use find_element() instead\n",
      "  search_button = driver.find_element_by_xpath(\"//div[@class='search-btn']/button\")\n"
     ]
    }
   ],
   "source": [
    "search_button = driver.find_element_by_xpath(\"//div[@class='search-btn']/button\")\n",
    "search_button.click()"
   ]
  },
  {
   "cell_type": "code",
   "execution_count": 50,
   "id": "d158720a",
   "metadata": {},
   "outputs": [],
   "source": [
    "driver.get('https://www.naukri.com/data-scientist-jobs-in-banglore?k=data%20scientist&l=banglore')"
   ]
  },
  {
   "cell_type": "code",
   "execution_count": 51,
   "id": "ce3b7931",
   "metadata": {},
   "outputs": [],
   "source": [
    "j_title = []\n",
    "j_company = []\n",
    "j_location = []"
   ]
  },
  {
   "cell_type": "code",
   "execution_count": 52,
   "id": "f3a1025d",
   "metadata": {},
   "outputs": [
    {
     "name": "stderr",
     "output_type": "stream",
     "text": [
      "<ipython-input-52-ba15d7658623>:1: DeprecationWarning: find_elements_by_* commands are deprecated. Please use find_elements() instead\n",
      "  t_ds_job = driver.find_elements_by_xpath(\"//a[@class='title fw500 ellipsis']\")\n"
     ]
    },
    {
     "data": {
      "text/plain": [
       "[<selenium.webdriver.remote.webelement.WebElement (session=\"264cc842345062bfe3c27c4c092c66ab\", element=\"bb3290dc-3d62-41a5-8603-42dabbb61486\")>,\n",
       " <selenium.webdriver.remote.webelement.WebElement (session=\"264cc842345062bfe3c27c4c092c66ab\", element=\"08391b3e-6202-4dd2-aa6c-fa6a0490c0a0\")>,\n",
       " <selenium.webdriver.remote.webelement.WebElement (session=\"264cc842345062bfe3c27c4c092c66ab\", element=\"02986d3a-c659-472d-838d-2bfb5a5aa012\")>,\n",
       " <selenium.webdriver.remote.webelement.WebElement (session=\"264cc842345062bfe3c27c4c092c66ab\", element=\"fc9d3914-cd75-42f2-ac5f-b66a4d730732\")>,\n",
       " <selenium.webdriver.remote.webelement.WebElement (session=\"264cc842345062bfe3c27c4c092c66ab\", element=\"6ac77f3c-8305-468d-891b-69c31820fe34\")>,\n",
       " <selenium.webdriver.remote.webelement.WebElement (session=\"264cc842345062bfe3c27c4c092c66ab\", element=\"6e1828bb-9ad8-46f4-a19e-f118ee37601b\")>,\n",
       " <selenium.webdriver.remote.webelement.WebElement (session=\"264cc842345062bfe3c27c4c092c66ab\", element=\"0db62747-f09f-40cb-9e51-076d160ab3ff\")>,\n",
       " <selenium.webdriver.remote.webelement.WebElement (session=\"264cc842345062bfe3c27c4c092c66ab\", element=\"7de15675-b0c1-4cf3-a1e1-6236956b6972\")>,\n",
       " <selenium.webdriver.remote.webelement.WebElement (session=\"264cc842345062bfe3c27c4c092c66ab\", element=\"f3e8135b-859c-432b-9a0e-8cde274968dc\")>,\n",
       " <selenium.webdriver.remote.webelement.WebElement (session=\"264cc842345062bfe3c27c4c092c66ab\", element=\"34313142-154f-4d3c-9639-628dc51f964b\")>]"
      ]
     },
     "execution_count": 52,
     "metadata": {},
     "output_type": "execute_result"
    }
   ],
   "source": [
    "t_ds_job = driver.find_elements_by_xpath(\"//a[@class='title fw500 ellipsis']\")\n",
    "t_ds_job = t_ds_job[0:10]\n",
    "t_ds_job"
   ]
  },
  {
   "cell_type": "code",
   "execution_count": 53,
   "id": "e0829d74",
   "metadata": {},
   "outputs": [
    {
     "data": {
      "text/plain": [
       "['Process Innovation Analyst - APAC/Data Scientist - Third Party Role',\n",
       " 'Data Scientist: Advanced Analytics',\n",
       " 'Data Scientist: Artificial Intelligence',\n",
       " 'Senior Data Scientist - Insights',\n",
       " 'Senior Data Scientist - Computer Vision',\n",
       " 'Senior Data Scientist | Fortune 500 Supermarket Chain',\n",
       " 'Data Scientist /Senior Data Scientist',\n",
       " 'Sr Data Scientist / Data Scientist',\n",
       " 'Senior Data Scientist',\n",
       " 'Forecasting Analyst/ Data Scientist (US Client)']"
      ]
     },
     "execution_count": 53,
     "metadata": {},
     "output_type": "execute_result"
    }
   ],
   "source": [
    "for i in t_ds_job:\n",
    "    t_ds = i.text\n",
    "    j_title.append(t_ds)\n",
    "j_title = j_title[0:10]\n",
    "j_title"
   ]
  },
  {
   "cell_type": "code",
   "execution_count": 54,
   "id": "e3349224",
   "metadata": {},
   "outputs": [
    {
     "name": "stderr",
     "output_type": "stream",
     "text": [
      "<ipython-input-54-5655ae845d56>:1: DeprecationWarning: find_elements_by_* commands are deprecated. Please use find_elements() instead\n",
      "  loc_ds = driver.find_elements_by_xpath(\"//li[@class='fleft grey-text br2 placeHolderLi location']\")\n"
     ]
    },
    {
     "data": {
      "text/plain": [
       "[<selenium.webdriver.remote.webelement.WebElement (session=\"264cc842345062bfe3c27c4c092c66ab\", element=\"b6e71633-c29e-483b-bf73-a71eb1f66d50\")>,\n",
       " <selenium.webdriver.remote.webelement.WebElement (session=\"264cc842345062bfe3c27c4c092c66ab\", element=\"d3a3baa4-0bc7-40ee-88f1-a23e619c898d\")>,\n",
       " <selenium.webdriver.remote.webelement.WebElement (session=\"264cc842345062bfe3c27c4c092c66ab\", element=\"133f3626-f507-4271-b63d-30dcf0fa3b89\")>,\n",
       " <selenium.webdriver.remote.webelement.WebElement (session=\"264cc842345062bfe3c27c4c092c66ab\", element=\"887cbcd1-7ecd-45b1-b056-16ef7916b25c\")>,\n",
       " <selenium.webdriver.remote.webelement.WebElement (session=\"264cc842345062bfe3c27c4c092c66ab\", element=\"e82cbabd-ffe7-4b62-8536-1576aa2d0f9d\")>,\n",
       " <selenium.webdriver.remote.webelement.WebElement (session=\"264cc842345062bfe3c27c4c092c66ab\", element=\"a3f3da3d-332c-409a-9fd3-18064d395a44\")>,\n",
       " <selenium.webdriver.remote.webelement.WebElement (session=\"264cc842345062bfe3c27c4c092c66ab\", element=\"f91e02fb-c7f5-4213-99e1-4b5f0aad31e3\")>,\n",
       " <selenium.webdriver.remote.webelement.WebElement (session=\"264cc842345062bfe3c27c4c092c66ab\", element=\"d43deac1-5cbf-4e97-acd2-48ed9e0ae93a\")>,\n",
       " <selenium.webdriver.remote.webelement.WebElement (session=\"264cc842345062bfe3c27c4c092c66ab\", element=\"fd6d977e-c180-41b7-9a6b-7331e0aed789\")>,\n",
       " <selenium.webdriver.remote.webelement.WebElement (session=\"264cc842345062bfe3c27c4c092c66ab\", element=\"8bef9c94-dbbf-4c8b-925a-5a7b4ac07e64\")>]"
      ]
     },
     "execution_count": 54,
     "metadata": {},
     "output_type": "execute_result"
    }
   ],
   "source": [
    "loc_ds = driver.find_elements_by_xpath(\"//li[@class='fleft grey-text br2 placeHolderLi location']\")\n",
    "loc_ds = loc_ds[0:10]\n",
    "loc_ds"
   ]
  },
  {
   "cell_type": "code",
   "execution_count": 55,
   "id": "2e782ac4",
   "metadata": {},
   "outputs": [
    {
     "data": {
      "text/plain": [
       "['Bangalore/Bengaluru, Hyderabad',\n",
       " 'Bangalore/Bengaluru',\n",
       " 'Bangalore/Bengaluru',\n",
       " 'Bangalore/Bengaluru',\n",
       " 'Bangalore/Bengaluru',\n",
       " 'Bangalore/Bengaluru',\n",
       " 'Chennai, Bangalore/Bengaluru\\n(WFH during Covid)',\n",
       " 'Bangalore/Bengaluru, Mumbai (All Areas)\\n(WFH during Covid)',\n",
       " 'Bangalore/Bengaluru',\n",
       " 'Gurgaon/Gurugram, Bangalore/Bengaluru\\n(WFH during Covid)']"
      ]
     },
     "execution_count": 55,
     "metadata": {},
     "output_type": "execute_result"
    }
   ],
   "source": [
    "for i in loc_ds:\n",
    "    location = i.text\n",
    "    j_location.append(i.text)\n",
    "j_location = j_location[0:10]\n",
    "j_location    "
   ]
  },
  {
   "cell_type": "code",
   "execution_count": 56,
   "id": "5642da37",
   "metadata": {},
   "outputs": [
    {
     "name": "stderr",
     "output_type": "stream",
     "text": [
      "<ipython-input-56-f1672621d5a3>:1: DeprecationWarning: find_elements_by_* commands are deprecated. Please use find_elements() instead\n",
      "  ds_com = driver.find_elements_by_xpath(\"//a[@class='subTitle ellipsis fleft']\")\n"
     ]
    },
    {
     "data": {
      "text/plain": [
       "[<selenium.webdriver.remote.webelement.WebElement (session=\"264cc842345062bfe3c27c4c092c66ab\", element=\"b6f19a3f-54f3-494d-9eba-28e7e25d2a41\")>,\n",
       " <selenium.webdriver.remote.webelement.WebElement (session=\"264cc842345062bfe3c27c4c092c66ab\", element=\"2e9bf8ec-ea7c-48a9-961f-b5c4c95ff2e8\")>,\n",
       " <selenium.webdriver.remote.webelement.WebElement (session=\"264cc842345062bfe3c27c4c092c66ab\", element=\"0d270d60-82c9-4e93-a3bd-dd3043f21688\")>,\n",
       " <selenium.webdriver.remote.webelement.WebElement (session=\"264cc842345062bfe3c27c4c092c66ab\", element=\"d3588c2b-ab0b-4048-8880-9904a9ab363c\")>,\n",
       " <selenium.webdriver.remote.webelement.WebElement (session=\"264cc842345062bfe3c27c4c092c66ab\", element=\"8916ddc6-3b5b-448c-89c5-24f415706d30\")>,\n",
       " <selenium.webdriver.remote.webelement.WebElement (session=\"264cc842345062bfe3c27c4c092c66ab\", element=\"535bb444-eb03-49ff-adbd-12d610d2adc5\")>,\n",
       " <selenium.webdriver.remote.webelement.WebElement (session=\"264cc842345062bfe3c27c4c092c66ab\", element=\"17bdfb37-226b-417f-ba4d-8a6add992562\")>,\n",
       " <selenium.webdriver.remote.webelement.WebElement (session=\"264cc842345062bfe3c27c4c092c66ab\", element=\"686b0455-71bb-4a36-9c71-92583643b853\")>,\n",
       " <selenium.webdriver.remote.webelement.WebElement (session=\"264cc842345062bfe3c27c4c092c66ab\", element=\"30aaef3c-4a15-4a29-a190-badb8c68047b\")>,\n",
       " <selenium.webdriver.remote.webelement.WebElement (session=\"264cc842345062bfe3c27c4c092c66ab\", element=\"8d6724f0-716c-47f2-a19e-aa0b3ccc00d7\")>]"
      ]
     },
     "execution_count": 56,
     "metadata": {},
     "output_type": "execute_result"
    }
   ],
   "source": [
    "ds_com = driver.find_elements_by_xpath(\"//a[@class='subTitle ellipsis fleft']\")\n",
    "ds_com = ds_com[0:10]\n",
    "ds_com"
   ]
  },
  {
   "cell_type": "code",
   "execution_count": 57,
   "id": "e73cc594",
   "metadata": {},
   "outputs": [
    {
     "data": {
      "text/plain": [
       "['Bayer',\n",
       " 'IBM India Pvt. Limited',\n",
       " 'IBM India Pvt. Limited',\n",
       " 'Autodesk India Pvt Ltd',\n",
       " 'GE Transportation',\n",
       " 'TALENT500 TECH (INDIA) PRIVATE LIMITED',\n",
       " 'Dun & Bradstreet',\n",
       " 'intelligent industrial internet systems pvt ltd.',\n",
       " 'Siemens Limited',\n",
       " 'Concentrix Daksh Services']"
      ]
     },
     "execution_count": 57,
     "metadata": {},
     "output_type": "execute_result"
    }
   ],
   "source": [
    "for i in ds_com:\n",
    "    company = i.text\n",
    "    j_company.append(i.text)\n",
    "j_company = j_company[0:10]\n",
    "j_company"
   ]
  },
  {
   "cell_type": "code",
   "execution_count": 58,
   "id": "84d86e8b",
   "metadata": {},
   "outputs": [],
   "source": [
    "job_ds = pd.DataFrame({'Job Title':j_title,'Location':j_location,'Company Name':j_company})"
   ]
  },
  {
   "cell_type": "code",
   "execution_count": 59,
   "id": "17b2eb28",
   "metadata": {},
   "outputs": [
    {
     "data": {
      "text/html": [
       "<div>\n",
       "<style scoped>\n",
       "    .dataframe tbody tr th:only-of-type {\n",
       "        vertical-align: middle;\n",
       "    }\n",
       "\n",
       "    .dataframe tbody tr th {\n",
       "        vertical-align: top;\n",
       "    }\n",
       "\n",
       "    .dataframe thead th {\n",
       "        text-align: right;\n",
       "    }\n",
       "</style>\n",
       "<table border=\"1\" class=\"dataframe\">\n",
       "  <thead>\n",
       "    <tr style=\"text-align: right;\">\n",
       "      <th></th>\n",
       "      <th>Job Title</th>\n",
       "      <th>Location</th>\n",
       "      <th>Company Name</th>\n",
       "    </tr>\n",
       "  </thead>\n",
       "  <tbody>\n",
       "    <tr>\n",
       "      <th>0</th>\n",
       "      <td>Process Innovation Analyst - APAC/Data Scienti...</td>\n",
       "      <td>Bangalore/Bengaluru, Hyderabad</td>\n",
       "      <td>Bayer</td>\n",
       "    </tr>\n",
       "    <tr>\n",
       "      <th>1</th>\n",
       "      <td>Data Scientist: Advanced Analytics</td>\n",
       "      <td>Bangalore/Bengaluru</td>\n",
       "      <td>IBM India Pvt. Limited</td>\n",
       "    </tr>\n",
       "    <tr>\n",
       "      <th>2</th>\n",
       "      <td>Data Scientist: Artificial Intelligence</td>\n",
       "      <td>Bangalore/Bengaluru</td>\n",
       "      <td>IBM India Pvt. Limited</td>\n",
       "    </tr>\n",
       "    <tr>\n",
       "      <th>3</th>\n",
       "      <td>Senior Data Scientist - Insights</td>\n",
       "      <td>Bangalore/Bengaluru</td>\n",
       "      <td>Autodesk India Pvt Ltd</td>\n",
       "    </tr>\n",
       "    <tr>\n",
       "      <th>4</th>\n",
       "      <td>Senior Data Scientist - Computer Vision</td>\n",
       "      <td>Bangalore/Bengaluru</td>\n",
       "      <td>GE Transportation</td>\n",
       "    </tr>\n",
       "    <tr>\n",
       "      <th>5</th>\n",
       "      <td>Senior Data Scientist | Fortune 500 Supermarke...</td>\n",
       "      <td>Bangalore/Bengaluru</td>\n",
       "      <td>TALENT500 TECH (INDIA) PRIVATE LIMITED</td>\n",
       "    </tr>\n",
       "    <tr>\n",
       "      <th>6</th>\n",
       "      <td>Data Scientist /Senior Data Scientist</td>\n",
       "      <td>Chennai, Bangalore/Bengaluru\\n(WFH during Covid)</td>\n",
       "      <td>Dun &amp; Bradstreet</td>\n",
       "    </tr>\n",
       "    <tr>\n",
       "      <th>7</th>\n",
       "      <td>Sr Data Scientist / Data Scientist</td>\n",
       "      <td>Bangalore/Bengaluru, Mumbai (All Areas)\\n(WFH ...</td>\n",
       "      <td>intelligent industrial internet systems pvt ltd.</td>\n",
       "    </tr>\n",
       "    <tr>\n",
       "      <th>8</th>\n",
       "      <td>Senior Data Scientist</td>\n",
       "      <td>Bangalore/Bengaluru</td>\n",
       "      <td>Siemens Limited</td>\n",
       "    </tr>\n",
       "    <tr>\n",
       "      <th>9</th>\n",
       "      <td>Forecasting Analyst/ Data Scientist (US Client)</td>\n",
       "      <td>Gurgaon/Gurugram, Bangalore/Bengaluru\\n(WFH du...</td>\n",
       "      <td>Concentrix Daksh Services</td>\n",
       "    </tr>\n",
       "  </tbody>\n",
       "</table>\n",
       "</div>"
      ],
      "text/plain": [
       "                                           Job Title  \\\n",
       "0  Process Innovation Analyst - APAC/Data Scienti...   \n",
       "1                 Data Scientist: Advanced Analytics   \n",
       "2            Data Scientist: Artificial Intelligence   \n",
       "3                   Senior Data Scientist - Insights   \n",
       "4            Senior Data Scientist - Computer Vision   \n",
       "5  Senior Data Scientist | Fortune 500 Supermarke...   \n",
       "6              Data Scientist /Senior Data Scientist   \n",
       "7                 Sr Data Scientist / Data Scientist   \n",
       "8                              Senior Data Scientist   \n",
       "9    Forecasting Analyst/ Data Scientist (US Client)   \n",
       "\n",
       "                                            Location  \\\n",
       "0                     Bangalore/Bengaluru, Hyderabad   \n",
       "1                                Bangalore/Bengaluru   \n",
       "2                                Bangalore/Bengaluru   \n",
       "3                                Bangalore/Bengaluru   \n",
       "4                                Bangalore/Bengaluru   \n",
       "5                                Bangalore/Bengaluru   \n",
       "6   Chennai, Bangalore/Bengaluru\\n(WFH during Covid)   \n",
       "7  Bangalore/Bengaluru, Mumbai (All Areas)\\n(WFH ...   \n",
       "8                                Bangalore/Bengaluru   \n",
       "9  Gurgaon/Gurugram, Bangalore/Bengaluru\\n(WFH du...   \n",
       "\n",
       "                                       Company Name  \n",
       "0                                             Bayer  \n",
       "1                            IBM India Pvt. Limited  \n",
       "2                            IBM India Pvt. Limited  \n",
       "3                            Autodesk India Pvt Ltd  \n",
       "4                                 GE Transportation  \n",
       "5            TALENT500 TECH (INDIA) PRIVATE LIMITED  \n",
       "6                                  Dun & Bradstreet  \n",
       "7  intelligent industrial internet systems pvt ltd.  \n",
       "8                                   Siemens Limited  \n",
       "9                         Concentrix Daksh Services  "
      ]
     },
     "execution_count": 59,
     "metadata": {},
     "output_type": "execute_result"
    }
   ],
   "source": [
    "job_ds"
   ]
  },
  {
   "cell_type": "markdown",
   "id": "fafbea11",
   "metadata": {},
   "source": [
    "Que 3 : Scraping data from Naukri.com using filters"
   ]
  },
  {
   "cell_type": "code",
   "execution_count": 31,
   "id": "d80f311f",
   "metadata": {},
   "outputs": [],
   "source": [
    "driver.get(\"https://www.naukri.com/\")"
   ]
  },
  {
   "cell_type": "code",
   "execution_count": 32,
   "id": "dfc46ecc",
   "metadata": {},
   "outputs": [
    {
     "name": "stderr",
     "output_type": "stream",
     "text": [
      "<ipython-input-32-b0c5c38efa18>:1: DeprecationWarning: find_element_by_* commands are deprecated. Please use find_element() instead\n",
      "  filter_job = driver.find_element_by_id('qsb-keyword-sugg')\n",
      "<ipython-input-32-b0c5c38efa18>:3: DeprecationWarning: find_element_by_* commands are deprecated. Please use find_element() instead\n",
      "  search_btn = driver.find_element_by_xpath(\"//div[@class='search-btn']/button\")\n"
     ]
    }
   ],
   "source": [
    "filter_job = driver.find_element_by_id('qsb-keyword-sugg')\n",
    "filter_job.send_keys('Data Scientist')\n",
    "search_btn = driver.find_element_by_xpath(\"//div[@class='search-btn']/button\")\n",
    "search_btn.click()"
   ]
  },
  {
   "cell_type": "code",
   "execution_count": 33,
   "id": "9f1ae006",
   "metadata": {},
   "outputs": [
    {
     "name": "stderr",
     "output_type": "stream",
     "text": [
      "<ipython-input-33-a85417098c99>:1: DeprecationWarning: find_element_by_* commands are deprecated. Please use find_element() instead\n",
      "  filter_btn = driver.find_element_by_xpath(\"/html/body/div[1]/div[3]/div[2]/section[1]/div[2]/div[3]/div[2]/div[3]\")\n"
     ]
    }
   ],
   "source": [
    "filter_btn = driver.find_element_by_xpath(\"/html/body/div[1]/div[3]/div[2]/section[1]/div[2]/div[3]/div[2]/div[3]\")\n",
    "filter_btn.click()"
   ]
  },
  {
   "cell_type": "code",
   "execution_count": 34,
   "id": "829bfaab",
   "metadata": {},
   "outputs": [
    {
     "name": "stderr",
     "output_type": "stream",
     "text": [
      "<ipython-input-34-1ee509952946>:1: DeprecationWarning: find_element_by_* commands are deprecated. Please use find_element() instead\n",
      "  filter_sal = driver.find_element_by_xpath(\"/html/body/div[1]/div[3]/div[2]/section[1]/div[2]/div[4]/div[2]/div[2]\")\n"
     ]
    }
   ],
   "source": [
    "filter_sal = driver.find_element_by_xpath(\"/html/body/div[1]/div[3]/div[2]/section[1]/div[2]/div[4]/div[2]/div[2]\")\n",
    "filter_sal.click()"
   ]
  },
  {
   "cell_type": "code",
   "execution_count": 35,
   "id": "bb3f3417",
   "metadata": {},
   "outputs": [],
   "source": [
    "f_title = []\n",
    "f_company = []\n",
    "f_location = []\n",
    "f_exp = []"
   ]
  },
  {
   "cell_type": "code",
   "execution_count": 36,
   "id": "12538d1f",
   "metadata": {},
   "outputs": [
    {
     "name": "stderr",
     "output_type": "stream",
     "text": [
      "<ipython-input-36-b01a96deb1a9>:1: DeprecationWarning: find_elements_by_* commands are deprecated. Please use find_elements() instead\n",
      "  f_t = driver.find_elements_by_xpath(\"//a[@class='title fw500 ellipsis']\")\n"
     ]
    },
    {
     "data": {
      "text/plain": [
       "[<selenium.webdriver.remote.webelement.WebElement (session=\"2e8163277e6ad7dccb6ef188ee8bdd62\", element=\"acc725db-4b4b-4676-90fd-bfd93da4b997\")>,\n",
       " <selenium.webdriver.remote.webelement.WebElement (session=\"2e8163277e6ad7dccb6ef188ee8bdd62\", element=\"340d7627-f3e2-447f-a663-6fb55ee93f90\")>,\n",
       " <selenium.webdriver.remote.webelement.WebElement (session=\"2e8163277e6ad7dccb6ef188ee8bdd62\", element=\"06209a2a-e940-4543-bd79-b47133d9504c\")>,\n",
       " <selenium.webdriver.remote.webelement.WebElement (session=\"2e8163277e6ad7dccb6ef188ee8bdd62\", element=\"36ffdcd9-c927-4260-8db3-6237d81661e1\")>,\n",
       " <selenium.webdriver.remote.webelement.WebElement (session=\"2e8163277e6ad7dccb6ef188ee8bdd62\", element=\"0dc3ca65-8685-4f56-a3f7-e09740136785\")>,\n",
       " <selenium.webdriver.remote.webelement.WebElement (session=\"2e8163277e6ad7dccb6ef188ee8bdd62\", element=\"b12f1fe8-21f2-41a7-b84b-9bb2034ac001\")>,\n",
       " <selenium.webdriver.remote.webelement.WebElement (session=\"2e8163277e6ad7dccb6ef188ee8bdd62\", element=\"e38e8b23-10f0-4864-889c-51082aa11e42\")>,\n",
       " <selenium.webdriver.remote.webelement.WebElement (session=\"2e8163277e6ad7dccb6ef188ee8bdd62\", element=\"bfca2eac-0f2c-4f22-982b-6a20393fa755\")>,\n",
       " <selenium.webdriver.remote.webelement.WebElement (session=\"2e8163277e6ad7dccb6ef188ee8bdd62\", element=\"c50ec343-d040-4ec3-bae4-f106a11cd823\")>,\n",
       " <selenium.webdriver.remote.webelement.WebElement (session=\"2e8163277e6ad7dccb6ef188ee8bdd62\", element=\"ebb2bfa5-9ced-4270-a74c-94663c6b413b\")>]"
      ]
     },
     "execution_count": 36,
     "metadata": {},
     "output_type": "execute_result"
    }
   ],
   "source": [
    "f_t = driver.find_elements_by_xpath(\"//a[@class='title fw500 ellipsis']\")\n",
    "f_t = f_t[0:10]\n",
    "f_t"
   ]
  },
  {
   "cell_type": "code",
   "execution_count": 37,
   "id": "6531238e",
   "metadata": {},
   "outputs": [
    {
     "data": {
      "text/plain": [
       "['Data Scientist',\n",
       " 'Job Opportunity || Data Scientist || HCL Technologies',\n",
       " 'Data Scientist',\n",
       " 'Data Scientist III-2',\n",
       " 'Data Scientist',\n",
       " 'Data Scientist',\n",
       " 'Urgent Hiring || Data Scientist || Delhi',\n",
       " 'Immediate requirement For Data Scientist',\n",
       " 'Data Scientist Internship',\n",
       " 'Data Scientist']"
      ]
     },
     "execution_count": 37,
     "metadata": {},
     "output_type": "execute_result"
    }
   ],
   "source": [
    "for i in f_t:\n",
    "    job = i.text\n",
    "    f_title.append(job)\n",
    "f_title = f_title[0:10]\n",
    "f_title"
   ]
  },
  {
   "cell_type": "code",
   "execution_count": 38,
   "id": "c892a72e",
   "metadata": {},
   "outputs": [
    {
     "name": "stderr",
     "output_type": "stream",
     "text": [
      "<ipython-input-38-6620a6659790>:1: DeprecationWarning: find_elements_by_* commands are deprecated. Please use find_elements() instead\n",
      "  f_loc = driver.find_elements_by_xpath(\"//li[@class='fleft grey-text br2 placeHolderLi location']\")\n"
     ]
    },
    {
     "data": {
      "text/plain": [
       "[<selenium.webdriver.remote.webelement.WebElement (session=\"2e8163277e6ad7dccb6ef188ee8bdd62\", element=\"8d77e5f4-c394-4d34-be78-5ac9dd9d8293\")>,\n",
       " <selenium.webdriver.remote.webelement.WebElement (session=\"2e8163277e6ad7dccb6ef188ee8bdd62\", element=\"60fb9236-c7ee-485f-8c3d-ec7034cd01b6\")>,\n",
       " <selenium.webdriver.remote.webelement.WebElement (session=\"2e8163277e6ad7dccb6ef188ee8bdd62\", element=\"1d28f056-766c-4e10-b753-1eed0ba0a433\")>,\n",
       " <selenium.webdriver.remote.webelement.WebElement (session=\"2e8163277e6ad7dccb6ef188ee8bdd62\", element=\"ea601865-3f59-460a-8829-689ba1bdb0b6\")>,\n",
       " <selenium.webdriver.remote.webelement.WebElement (session=\"2e8163277e6ad7dccb6ef188ee8bdd62\", element=\"cd01b2e9-014a-4bd0-8db9-917dc26708bf\")>,\n",
       " <selenium.webdriver.remote.webelement.WebElement (session=\"2e8163277e6ad7dccb6ef188ee8bdd62\", element=\"297e7ad1-69e0-4dea-bd96-cbfe7f924ecd\")>,\n",
       " <selenium.webdriver.remote.webelement.WebElement (session=\"2e8163277e6ad7dccb6ef188ee8bdd62\", element=\"8e3141cf-4f1d-4bf8-a7df-c60184f2f8c3\")>,\n",
       " <selenium.webdriver.remote.webelement.WebElement (session=\"2e8163277e6ad7dccb6ef188ee8bdd62\", element=\"125d8bd2-cc65-485b-87ac-60aa057281e0\")>,\n",
       " <selenium.webdriver.remote.webelement.WebElement (session=\"2e8163277e6ad7dccb6ef188ee8bdd62\", element=\"d01df474-70ea-42c3-9125-502af5a3da65\")>,\n",
       " <selenium.webdriver.remote.webelement.WebElement (session=\"2e8163277e6ad7dccb6ef188ee8bdd62\", element=\"78a67750-c780-41be-804e-1ff98ca73a0f\")>]"
      ]
     },
     "execution_count": 38,
     "metadata": {},
     "output_type": "execute_result"
    }
   ],
   "source": [
    "f_loc = driver.find_elements_by_xpath(\"//li[@class='fleft grey-text br2 placeHolderLi location']\")\n",
    "f_loc = f_loc[0:10]\n",
    "f_loc"
   ]
  },
  {
   "cell_type": "code",
   "execution_count": 39,
   "id": "ea2499eb",
   "metadata": {},
   "outputs": [
    {
     "data": {
      "text/plain": [
       "['Pune, Bangalore/Bengaluru, Delhi / NCR\\n(WFH during Covid)',\n",
       " 'Delhi / NCR',\n",
       " 'Kochi/Cochin, Kolkata, Hyderabad/Secunderabad, Pune, Ahmedabad, Chennai, Bangalore/Bengaluru, Delhi / NCR, Mumbai (All Areas)',\n",
       " 'Gurgaon/Gurugram',\n",
       " 'Noida(Sector-126 Noida)',\n",
       " 'Noida(Sector-126 Noida)',\n",
       " 'Delhi / NCR',\n",
       " 'Mumbai, Hyderabad/Secunderabad, Pune, Chennai, Tamia, Bangalore/Bengaluru, Delhi / NCR',\n",
       " 'New Delhi',\n",
       " 'Noida, Gurgaon/Gurugram']"
      ]
     },
     "execution_count": 39,
     "metadata": {},
     "output_type": "execute_result"
    }
   ],
   "source": [
    "for i in f_loc:\n",
    "    place = i.text\n",
    "    f_location.append(place)\n",
    "f_location = f_location[0:10]\n",
    "f_location"
   ]
  },
  {
   "cell_type": "code",
   "execution_count": 40,
   "id": "a7fb0524",
   "metadata": {},
   "outputs": [
    {
     "name": "stderr",
     "output_type": "stream",
     "text": [
      "<ipython-input-40-c1172b1ffb51>:1: DeprecationWarning: find_elements_by_* commands are deprecated. Please use find_elements() instead\n",
      "  f_com = driver.find_elements_by_xpath(\"//a[@class='subTitle ellipsis fleft']\")\n"
     ]
    },
    {
     "data": {
      "text/plain": [
       "[<selenium.webdriver.remote.webelement.WebElement (session=\"2e8163277e6ad7dccb6ef188ee8bdd62\", element=\"bb7eb23f-8538-4b4b-866f-d31e4a67dcab\")>,\n",
       " <selenium.webdriver.remote.webelement.WebElement (session=\"2e8163277e6ad7dccb6ef188ee8bdd62\", element=\"d7e12917-fa06-4bee-bea2-5df61c8dd3f3\")>,\n",
       " <selenium.webdriver.remote.webelement.WebElement (session=\"2e8163277e6ad7dccb6ef188ee8bdd62\", element=\"028fe088-fc9d-4fee-bc3a-035ceefcd6b2\")>,\n",
       " <selenium.webdriver.remote.webelement.WebElement (session=\"2e8163277e6ad7dccb6ef188ee8bdd62\", element=\"97e877f1-ac9c-45e5-93c1-d776f3e1e476\")>,\n",
       " <selenium.webdriver.remote.webelement.WebElement (session=\"2e8163277e6ad7dccb6ef188ee8bdd62\", element=\"5dd8bea2-8c03-430c-872b-5bfb4180281a\")>,\n",
       " <selenium.webdriver.remote.webelement.WebElement (session=\"2e8163277e6ad7dccb6ef188ee8bdd62\", element=\"92dbd526-15f1-400b-bcc9-3ec7a85f1e49\")>,\n",
       " <selenium.webdriver.remote.webelement.WebElement (session=\"2e8163277e6ad7dccb6ef188ee8bdd62\", element=\"ea0d0803-35bb-49ad-af55-c46c3defa7c3\")>,\n",
       " <selenium.webdriver.remote.webelement.WebElement (session=\"2e8163277e6ad7dccb6ef188ee8bdd62\", element=\"8e03b7a9-8f8e-42b5-ade8-cf295fd1452e\")>,\n",
       " <selenium.webdriver.remote.webelement.WebElement (session=\"2e8163277e6ad7dccb6ef188ee8bdd62\", element=\"165cee88-4505-4d74-936a-df5860bf79da\")>,\n",
       " <selenium.webdriver.remote.webelement.WebElement (session=\"2e8163277e6ad7dccb6ef188ee8bdd62\", element=\"8c5fc5ed-1a15-40ca-90fa-5d8298ccaa2a\")>]"
      ]
     },
     "execution_count": 40,
     "metadata": {},
     "output_type": "execute_result"
    }
   ],
   "source": [
    "f_com = driver.find_elements_by_xpath(\"//a[@class='subTitle ellipsis fleft']\")\n",
    "f_com = f_com[0:10]\n",
    "f_com"
   ]
  },
  {
   "cell_type": "code",
   "execution_count": 41,
   "id": "31ada3fa",
   "metadata": {},
   "outputs": [
    {
     "data": {
      "text/plain": [
       "['ThinkBumblebee Analytics Pvt. Ltd.',\n",
       " 'HCL Technologies',\n",
       " 'Think i',\n",
       " 'Concentrix Daksh Services',\n",
       " 'MoMagic Technologies Pvt. Ltd.',\n",
       " 'MoMagic Technologies Pvt. Ltd.',\n",
       " 'Shriram Automall India Limited',\n",
       " 'CALIBEHR BUSINESS SUPPORT SERVICES PRIVATE LIMITED',\n",
       " 'iHackers Inc',\n",
       " 'Optum Global Solutions (India) Private Limited']"
      ]
     },
     "execution_count": 41,
     "metadata": {},
     "output_type": "execute_result"
    }
   ],
   "source": [
    "for i in f_com:\n",
    "    comp = i.text\n",
    "    f_company.append(comp)\n",
    "f_company = f_company[0:10]\n",
    "f_company"
   ]
  },
  {
   "cell_type": "code",
   "execution_count": 42,
   "id": "3e26eccd",
   "metadata": {},
   "outputs": [
    {
     "name": "stderr",
     "output_type": "stream",
     "text": [
      "<ipython-input-42-c4c9708c176d>:1: DeprecationWarning: find_elements_by_* commands are deprecated. Please use find_elements() instead\n",
      "  f_expe = driver.find_elements_by_xpath(\"//li[@class='fleft grey-text br2 placeHolderLi experience']\")\n"
     ]
    },
    {
     "data": {
      "text/plain": [
       "[<selenium.webdriver.remote.webelement.WebElement (session=\"2e8163277e6ad7dccb6ef188ee8bdd62\", element=\"0812e865-dc4c-4c75-aa10-bde098058a74\")>,\n",
       " <selenium.webdriver.remote.webelement.WebElement (session=\"2e8163277e6ad7dccb6ef188ee8bdd62\", element=\"20939735-411e-45d0-8712-c248732bdcbc\")>,\n",
       " <selenium.webdriver.remote.webelement.WebElement (session=\"2e8163277e6ad7dccb6ef188ee8bdd62\", element=\"d1c6e4b0-6589-4d13-ae05-3793523b72c2\")>,\n",
       " <selenium.webdriver.remote.webelement.WebElement (session=\"2e8163277e6ad7dccb6ef188ee8bdd62\", element=\"432588e6-c7a8-4100-9a93-d8e04b1b25b7\")>,\n",
       " <selenium.webdriver.remote.webelement.WebElement (session=\"2e8163277e6ad7dccb6ef188ee8bdd62\", element=\"43cc1f4b-f415-434b-a733-38c775b74530\")>,\n",
       " <selenium.webdriver.remote.webelement.WebElement (session=\"2e8163277e6ad7dccb6ef188ee8bdd62\", element=\"00e6f357-2465-45b6-b928-00e940fdfecf\")>,\n",
       " <selenium.webdriver.remote.webelement.WebElement (session=\"2e8163277e6ad7dccb6ef188ee8bdd62\", element=\"415522a1-3544-4fc4-98cc-906e0251e50c\")>,\n",
       " <selenium.webdriver.remote.webelement.WebElement (session=\"2e8163277e6ad7dccb6ef188ee8bdd62\", element=\"02ceeb42-9a6a-47dc-8234-3184e6edd42e\")>,\n",
       " <selenium.webdriver.remote.webelement.WebElement (session=\"2e8163277e6ad7dccb6ef188ee8bdd62\", element=\"6c21c59a-0f29-4343-bd88-54af007d4f7c\")>,\n",
       " <selenium.webdriver.remote.webelement.WebElement (session=\"2e8163277e6ad7dccb6ef188ee8bdd62\", element=\"a3671c11-d24b-40a1-b5fc-acf90cc4978e\")>]"
      ]
     },
     "execution_count": 42,
     "metadata": {},
     "output_type": "execute_result"
    }
   ],
   "source": [
    "f_expe = driver.find_elements_by_xpath(\"//li[@class='fleft grey-text br2 placeHolderLi experience']\")\n",
    "f_expe = f_expe[0:10]\n",
    "f_expe"
   ]
  },
  {
   "cell_type": "code",
   "execution_count": 43,
   "id": "4f0fc700",
   "metadata": {},
   "outputs": [
    {
     "data": {
      "text/plain": [
       "['2-6 Yrs',\n",
       " '4-7 Yrs',\n",
       " '0-2 Yrs',\n",
       " '3-8 Yrs',\n",
       " '4-6 Yrs',\n",
       " '4-6 Yrs',\n",
       " '2-7 Yrs',\n",
       " '2-7 Yrs',\n",
       " '0-1 Yrs',\n",
       " '2-6 Yrs']"
      ]
     },
     "execution_count": 43,
     "metadata": {},
     "output_type": "execute_result"
    }
   ],
   "source": [
    "for i in f_expe:\n",
    "    expe = i.text\n",
    "    f_exp.append(expe)\n",
    "f_exp = f_exp[0:10]\n",
    "f_exp"
   ]
  },
  {
   "cell_type": "code",
   "execution_count": 44,
   "id": "d61d8a27",
   "metadata": {},
   "outputs": [
    {
     "name": "stdout",
     "output_type": "stream",
     "text": [
      "10 10 10 10\n"
     ]
    }
   ],
   "source": [
    "print(len(f_title),len(f_location),len(f_company),len(f_exp))"
   ]
  },
  {
   "cell_type": "code",
   "execution_count": 45,
   "id": "f11af50d",
   "metadata": {},
   "outputs": [],
   "source": [
    "f_job = pd.DataFrame({'Job_Title':f_title,'Company_Name':f_company,'Job_Location':f_location,'Job_Exp':f_exp})"
   ]
  },
  {
   "cell_type": "code",
   "execution_count": 46,
   "id": "882c9f53",
   "metadata": {},
   "outputs": [
    {
     "data": {
      "text/html": [
       "<div>\n",
       "<style scoped>\n",
       "    .dataframe tbody tr th:only-of-type {\n",
       "        vertical-align: middle;\n",
       "    }\n",
       "\n",
       "    .dataframe tbody tr th {\n",
       "        vertical-align: top;\n",
       "    }\n",
       "\n",
       "    .dataframe thead th {\n",
       "        text-align: right;\n",
       "    }\n",
       "</style>\n",
       "<table border=\"1\" class=\"dataframe\">\n",
       "  <thead>\n",
       "    <tr style=\"text-align: right;\">\n",
       "      <th></th>\n",
       "      <th>Job_Title</th>\n",
       "      <th>Company_Name</th>\n",
       "      <th>Job_Location</th>\n",
       "      <th>Job_Exp</th>\n",
       "    </tr>\n",
       "  </thead>\n",
       "  <tbody>\n",
       "    <tr>\n",
       "      <th>0</th>\n",
       "      <td>Data Scientist</td>\n",
       "      <td>ThinkBumblebee Analytics Pvt. Ltd.</td>\n",
       "      <td>Pune, Bangalore/Bengaluru, Delhi / NCR\\n(WFH d...</td>\n",
       "      <td>2-6 Yrs</td>\n",
       "    </tr>\n",
       "    <tr>\n",
       "      <th>1</th>\n",
       "      <td>Job Opportunity || Data Scientist || HCL Techn...</td>\n",
       "      <td>HCL Technologies</td>\n",
       "      <td>Delhi / NCR</td>\n",
       "      <td>4-7 Yrs</td>\n",
       "    </tr>\n",
       "    <tr>\n",
       "      <th>2</th>\n",
       "      <td>Data Scientist</td>\n",
       "      <td>Think i</td>\n",
       "      <td>Kochi/Cochin, Kolkata, Hyderabad/Secunderabad,...</td>\n",
       "      <td>0-2 Yrs</td>\n",
       "    </tr>\n",
       "    <tr>\n",
       "      <th>3</th>\n",
       "      <td>Data Scientist III-2</td>\n",
       "      <td>Concentrix Daksh Services</td>\n",
       "      <td>Gurgaon/Gurugram</td>\n",
       "      <td>3-8 Yrs</td>\n",
       "    </tr>\n",
       "    <tr>\n",
       "      <th>4</th>\n",
       "      <td>Data Scientist</td>\n",
       "      <td>MoMagic Technologies Pvt. Ltd.</td>\n",
       "      <td>Noida(Sector-126 Noida)</td>\n",
       "      <td>4-6 Yrs</td>\n",
       "    </tr>\n",
       "    <tr>\n",
       "      <th>5</th>\n",
       "      <td>Data Scientist</td>\n",
       "      <td>MoMagic Technologies Pvt. Ltd.</td>\n",
       "      <td>Noida(Sector-126 Noida)</td>\n",
       "      <td>4-6 Yrs</td>\n",
       "    </tr>\n",
       "    <tr>\n",
       "      <th>6</th>\n",
       "      <td>Urgent Hiring || Data Scientist || Delhi</td>\n",
       "      <td>Shriram Automall India Limited</td>\n",
       "      <td>Delhi / NCR</td>\n",
       "      <td>2-7 Yrs</td>\n",
       "    </tr>\n",
       "    <tr>\n",
       "      <th>7</th>\n",
       "      <td>Immediate requirement For Data Scientist</td>\n",
       "      <td>CALIBEHR BUSINESS SUPPORT SERVICES PRIVATE LIM...</td>\n",
       "      <td>Mumbai, Hyderabad/Secunderabad, Pune, Chennai,...</td>\n",
       "      <td>2-7 Yrs</td>\n",
       "    </tr>\n",
       "    <tr>\n",
       "      <th>8</th>\n",
       "      <td>Data Scientist Internship</td>\n",
       "      <td>iHackers Inc</td>\n",
       "      <td>New Delhi</td>\n",
       "      <td>0-1 Yrs</td>\n",
       "    </tr>\n",
       "    <tr>\n",
       "      <th>9</th>\n",
       "      <td>Data Scientist</td>\n",
       "      <td>Optum Global Solutions (India) Private Limited</td>\n",
       "      <td>Noida, Gurgaon/Gurugram</td>\n",
       "      <td>2-6 Yrs</td>\n",
       "    </tr>\n",
       "  </tbody>\n",
       "</table>\n",
       "</div>"
      ],
      "text/plain": [
       "                                           Job_Title  \\\n",
       "0                                     Data Scientist   \n",
       "1  Job Opportunity || Data Scientist || HCL Techn...   \n",
       "2                                     Data Scientist   \n",
       "3                               Data Scientist III-2   \n",
       "4                                     Data Scientist   \n",
       "5                                     Data Scientist   \n",
       "6           Urgent Hiring || Data Scientist || Delhi   \n",
       "7           Immediate requirement For Data Scientist   \n",
       "8                          Data Scientist Internship   \n",
       "9                                     Data Scientist   \n",
       "\n",
       "                                        Company_Name  \\\n",
       "0                 ThinkBumblebee Analytics Pvt. Ltd.   \n",
       "1                                   HCL Technologies   \n",
       "2                                            Think i   \n",
       "3                          Concentrix Daksh Services   \n",
       "4                     MoMagic Technologies Pvt. Ltd.   \n",
       "5                     MoMagic Technologies Pvt. Ltd.   \n",
       "6                     Shriram Automall India Limited   \n",
       "7  CALIBEHR BUSINESS SUPPORT SERVICES PRIVATE LIM...   \n",
       "8                                       iHackers Inc   \n",
       "9     Optum Global Solutions (India) Private Limited   \n",
       "\n",
       "                                        Job_Location  Job_Exp  \n",
       "0  Pune, Bangalore/Bengaluru, Delhi / NCR\\n(WFH d...  2-6 Yrs  \n",
       "1                                        Delhi / NCR  4-7 Yrs  \n",
       "2  Kochi/Cochin, Kolkata, Hyderabad/Secunderabad,...  0-2 Yrs  \n",
       "3                                   Gurgaon/Gurugram  3-8 Yrs  \n",
       "4                            Noida(Sector-126 Noida)  4-6 Yrs  \n",
       "5                            Noida(Sector-126 Noida)  4-6 Yrs  \n",
       "6                                        Delhi / NCR  2-7 Yrs  \n",
       "7  Mumbai, Hyderabad/Secunderabad, Pune, Chennai,...  2-7 Yrs  \n",
       "8                                          New Delhi  0-1 Yrs  \n",
       "9                            Noida, Gurgaon/Gurugram  2-6 Yrs  "
      ]
     },
     "execution_count": 46,
     "metadata": {},
     "output_type": "execute_result"
    }
   ],
   "source": [
    "f_job"
   ]
  },
  {
   "cell_type": "markdown",
   "id": "39a1282c",
   "metadata": {},
   "source": [
    "Scraping Data for Sunglasses from https://www.flipkart.com/"
   ]
  },
  {
   "cell_type": "code",
   "execution_count": 69,
   "id": "4a832cd0",
   "metadata": {},
   "outputs": [],
   "source": [
    "driver.get('https://www.flipkart.com/')"
   ]
  },
  {
   "cell_type": "code",
   "execution_count": 75,
   "id": "27504ecf",
   "metadata": {},
   "outputs": [
    {
     "name": "stderr",
     "output_type": "stream",
     "text": [
      "<ipython-input-75-78ed20911603>:1: DeprecationWarning: find_element_by_* commands are deprecated. Please use find_element() instead\n",
      "  sunglass = driver.find_element_by_class_name('_3OO5Xc')\n"
     ]
    },
    {
     "ename": "ElementNotInteractableException",
     "evalue": "Message: element not interactable\n  (Session info: chrome=95.0.4638.69)\nStacktrace:\nBacktrace:\n\tOrdinal0 [0x013706F3+2492147]\n\tOrdinal0 [0x01309BD1+2071505]\n\tOrdinal0 [0x01212340+1057600]\n\tOrdinal0 [0x01237FA3+1212323]\n\tOrdinal0 [0x012376EF+1210095]\n\tOrdinal0 [0x012557C3+1333187]\n\tOrdinal0 [0x01233466+1193062]\n\tOrdinal0 [0x012558AA+1333418]\n\tOrdinal0 [0x01264F38+1396536]\n\tOrdinal0 [0x0125568B+1332875]\n\tOrdinal0 [0x012321D4+1188308]\n\tOrdinal0 [0x0123302F+1191983]\n\tGetHandleVerifier [0x014F67A6+1545030]\n\tGetHandleVerifier [0x015A105C+2243580]\n\tGetHandleVerifier [0x013FBC97+518199]\n\tGetHandleVerifier [0x013FAD80+514336]\n\tOrdinal0 [0x0130ED2D+2092333]\n\tOrdinal0 [0x01312EE8+2109160]\n\tOrdinal0 [0x01313022+2109474]\n\tOrdinal0 [0x0131CB71+2149233]\n\tBaseThreadInitThunk [0x75966A14+36]\n\tRtlInitializeExceptionChain [0x76F1A9EF+143]\n\tRtlInitializeExceptionChain [0x76F1A9BA+90]\n",
     "output_type": "error",
     "traceback": [
      "\u001b[1;31m---------------------------------------------------------------------------\u001b[0m",
      "\u001b[1;31mElementNotInteractableException\u001b[0m           Traceback (most recent call last)",
      "\u001b[1;32m<ipython-input-75-78ed20911603>\u001b[0m in \u001b[0;36m<module>\u001b[1;34m\u001b[0m\n\u001b[0;32m      1\u001b[0m \u001b[0msunglass\u001b[0m \u001b[1;33m=\u001b[0m \u001b[0mdriver\u001b[0m\u001b[1;33m.\u001b[0m\u001b[0mfind_element_by_class_name\u001b[0m\u001b[1;33m(\u001b[0m\u001b[1;34m'_3OO5Xc'\u001b[0m\u001b[1;33m)\u001b[0m\u001b[1;33m\u001b[0m\u001b[1;33m\u001b[0m\u001b[0m\n\u001b[1;32m----> 2\u001b[1;33m \u001b[0msunglass\u001b[0m\u001b[1;33m.\u001b[0m\u001b[0msend_keys\u001b[0m\u001b[1;33m(\u001b[0m\u001b[1;34m'Sunglasses'\u001b[0m\u001b[1;33m)\u001b[0m\u001b[1;33m\u001b[0m\u001b[1;33m\u001b[0m\u001b[0m\n\u001b[0m\u001b[0;32m      3\u001b[0m \u001b[0msearch_b\u001b[0m \u001b[1;33m=\u001b[0m \u001b[0mdriver\u001b[0m\u001b[1;33m.\u001b[0m\u001b[0mfind_element_by_xpath\u001b[0m\u001b[1;33m(\u001b[0m\u001b[1;34m\"//button[@class='L0Z3Pu']/button\"\u001b[0m\u001b[1;33m)\u001b[0m\u001b[1;33m\u001b[0m\u001b[1;33m\u001b[0m\u001b[0m\n\u001b[0;32m      4\u001b[0m \u001b[0msearch_b\u001b[0m\u001b[1;33m.\u001b[0m\u001b[0mclick\u001b[0m\u001b[1;33m(\u001b[0m\u001b[1;33m)\u001b[0m\u001b[1;33m\u001b[0m\u001b[1;33m\u001b[0m\u001b[0m\n",
      "\u001b[1;32m~\\anaconda3\\lib\\site-packages\\selenium\\webdriver\\remote\\webelement.py\u001b[0m in \u001b[0;36msend_keys\u001b[1;34m(self, *value)\u001b[0m\n\u001b[0;32m    537\u001b[0m                 \u001b[0mvalue\u001b[0m \u001b[1;33m=\u001b[0m \u001b[1;34m'\\n'\u001b[0m\u001b[1;33m.\u001b[0m\u001b[0mjoin\u001b[0m\u001b[1;33m(\u001b[0m\u001b[0mremote_files\u001b[0m\u001b[1;33m)\u001b[0m\u001b[1;33m\u001b[0m\u001b[1;33m\u001b[0m\u001b[0m\n\u001b[0;32m    538\u001b[0m \u001b[1;33m\u001b[0m\u001b[0m\n\u001b[1;32m--> 539\u001b[1;33m         self._execute(Command.SEND_KEYS_TO_ELEMENT,\n\u001b[0m\u001b[0;32m    540\u001b[0m                       {'text': \"\".join(keys_to_typing(value)),\n\u001b[0;32m    541\u001b[0m                        'value': keys_to_typing(value)})\n",
      "\u001b[1;32m~\\anaconda3\\lib\\site-packages\\selenium\\webdriver\\remote\\webelement.py\u001b[0m in \u001b[0;36m_execute\u001b[1;34m(self, command, params)\u001b[0m\n\u001b[0;32m    691\u001b[0m             \u001b[0mparams\u001b[0m \u001b[1;33m=\u001b[0m \u001b[1;33m{\u001b[0m\u001b[1;33m}\u001b[0m\u001b[1;33m\u001b[0m\u001b[1;33m\u001b[0m\u001b[0m\n\u001b[0;32m    692\u001b[0m         \u001b[0mparams\u001b[0m\u001b[1;33m[\u001b[0m\u001b[1;34m'id'\u001b[0m\u001b[1;33m]\u001b[0m \u001b[1;33m=\u001b[0m \u001b[0mself\u001b[0m\u001b[1;33m.\u001b[0m\u001b[0m_id\u001b[0m\u001b[1;33m\u001b[0m\u001b[1;33m\u001b[0m\u001b[0m\n\u001b[1;32m--> 693\u001b[1;33m         \u001b[1;32mreturn\u001b[0m \u001b[0mself\u001b[0m\u001b[1;33m.\u001b[0m\u001b[0m_parent\u001b[0m\u001b[1;33m.\u001b[0m\u001b[0mexecute\u001b[0m\u001b[1;33m(\u001b[0m\u001b[0mcommand\u001b[0m\u001b[1;33m,\u001b[0m \u001b[0mparams\u001b[0m\u001b[1;33m)\u001b[0m\u001b[1;33m\u001b[0m\u001b[1;33m\u001b[0m\u001b[0m\n\u001b[0m\u001b[0;32m    694\u001b[0m \u001b[1;33m\u001b[0m\u001b[0m\n\u001b[0;32m    695\u001b[0m     \u001b[1;32mdef\u001b[0m \u001b[0mfind_element\u001b[0m\u001b[1;33m(\u001b[0m\u001b[0mself\u001b[0m\u001b[1;33m,\u001b[0m \u001b[0mby\u001b[0m\u001b[1;33m=\u001b[0m\u001b[0mBy\u001b[0m\u001b[1;33m.\u001b[0m\u001b[0mID\u001b[0m\u001b[1;33m,\u001b[0m \u001b[0mvalue\u001b[0m\u001b[1;33m=\u001b[0m\u001b[1;32mNone\u001b[0m\u001b[1;33m)\u001b[0m\u001b[1;33m:\u001b[0m\u001b[1;33m\u001b[0m\u001b[1;33m\u001b[0m\u001b[0m\n",
      "\u001b[1;32m~\\anaconda3\\lib\\site-packages\\selenium\\webdriver\\remote\\webdriver.py\u001b[0m in \u001b[0;36mexecute\u001b[1;34m(self, driver_command, params)\u001b[0m\n\u001b[0;32m    416\u001b[0m         \u001b[0mresponse\u001b[0m \u001b[1;33m=\u001b[0m \u001b[0mself\u001b[0m\u001b[1;33m.\u001b[0m\u001b[0mcommand_executor\u001b[0m\u001b[1;33m.\u001b[0m\u001b[0mexecute\u001b[0m\u001b[1;33m(\u001b[0m\u001b[0mdriver_command\u001b[0m\u001b[1;33m,\u001b[0m \u001b[0mparams\u001b[0m\u001b[1;33m)\u001b[0m\u001b[1;33m\u001b[0m\u001b[1;33m\u001b[0m\u001b[0m\n\u001b[0;32m    417\u001b[0m         \u001b[1;32mif\u001b[0m \u001b[0mresponse\u001b[0m\u001b[1;33m:\u001b[0m\u001b[1;33m\u001b[0m\u001b[1;33m\u001b[0m\u001b[0m\n\u001b[1;32m--> 418\u001b[1;33m             \u001b[0mself\u001b[0m\u001b[1;33m.\u001b[0m\u001b[0merror_handler\u001b[0m\u001b[1;33m.\u001b[0m\u001b[0mcheck_response\u001b[0m\u001b[1;33m(\u001b[0m\u001b[0mresponse\u001b[0m\u001b[1;33m)\u001b[0m\u001b[1;33m\u001b[0m\u001b[1;33m\u001b[0m\u001b[0m\n\u001b[0m\u001b[0;32m    419\u001b[0m             response['value'] = self._unwrap_value(\n\u001b[0;32m    420\u001b[0m                 response.get('value', None))\n",
      "\u001b[1;32m~\\anaconda3\\lib\\site-packages\\selenium\\webdriver\\remote\\errorhandler.py\u001b[0m in \u001b[0;36mcheck_response\u001b[1;34m(self, response)\u001b[0m\n\u001b[0;32m    241\u001b[0m                 \u001b[0malert_text\u001b[0m \u001b[1;33m=\u001b[0m \u001b[0mvalue\u001b[0m\u001b[1;33m[\u001b[0m\u001b[1;34m'alert'\u001b[0m\u001b[1;33m]\u001b[0m\u001b[1;33m.\u001b[0m\u001b[0mget\u001b[0m\u001b[1;33m(\u001b[0m\u001b[1;34m'text'\u001b[0m\u001b[1;33m)\u001b[0m\u001b[1;33m\u001b[0m\u001b[1;33m\u001b[0m\u001b[0m\n\u001b[0;32m    242\u001b[0m             \u001b[1;32mraise\u001b[0m \u001b[0mexception_class\u001b[0m\u001b[1;33m(\u001b[0m\u001b[0mmessage\u001b[0m\u001b[1;33m,\u001b[0m \u001b[0mscreen\u001b[0m\u001b[1;33m,\u001b[0m \u001b[0mstacktrace\u001b[0m\u001b[1;33m,\u001b[0m \u001b[0malert_text\u001b[0m\u001b[1;33m)\u001b[0m  \u001b[1;31m# type: ignore[call-arg]  # mypy is not smart enough here\u001b[0m\u001b[1;33m\u001b[0m\u001b[1;33m\u001b[0m\u001b[0m\n\u001b[1;32m--> 243\u001b[1;33m         \u001b[1;32mraise\u001b[0m \u001b[0mexception_class\u001b[0m\u001b[1;33m(\u001b[0m\u001b[0mmessage\u001b[0m\u001b[1;33m,\u001b[0m \u001b[0mscreen\u001b[0m\u001b[1;33m,\u001b[0m \u001b[0mstacktrace\u001b[0m\u001b[1;33m)\u001b[0m\u001b[1;33m\u001b[0m\u001b[1;33m\u001b[0m\u001b[0m\n\u001b[0m\u001b[0;32m    244\u001b[0m \u001b[1;33m\u001b[0m\u001b[0m\n\u001b[0;32m    245\u001b[0m     \u001b[1;32mdef\u001b[0m \u001b[0m_value_or_default\u001b[0m\u001b[1;33m(\u001b[0m\u001b[0mself\u001b[0m\u001b[1;33m,\u001b[0m \u001b[0mobj\u001b[0m\u001b[1;33m:\u001b[0m \u001b[0mMapping\u001b[0m\u001b[1;33m[\u001b[0m\u001b[0m_KT\u001b[0m\u001b[1;33m,\u001b[0m \u001b[0m_VT\u001b[0m\u001b[1;33m]\u001b[0m\u001b[1;33m,\u001b[0m \u001b[0mkey\u001b[0m\u001b[1;33m:\u001b[0m \u001b[0m_KT\u001b[0m\u001b[1;33m,\u001b[0m \u001b[0mdefault\u001b[0m\u001b[1;33m:\u001b[0m \u001b[0m_VT\u001b[0m\u001b[1;33m)\u001b[0m \u001b[1;33m->\u001b[0m \u001b[0m_VT\u001b[0m\u001b[1;33m:\u001b[0m\u001b[1;33m\u001b[0m\u001b[1;33m\u001b[0m\u001b[0m\n",
      "\u001b[1;31mElementNotInteractableException\u001b[0m: Message: element not interactable\n  (Session info: chrome=95.0.4638.69)\nStacktrace:\nBacktrace:\n\tOrdinal0 [0x013706F3+2492147]\n\tOrdinal0 [0x01309BD1+2071505]\n\tOrdinal0 [0x01212340+1057600]\n\tOrdinal0 [0x01237FA3+1212323]\n\tOrdinal0 [0x012376EF+1210095]\n\tOrdinal0 [0x012557C3+1333187]\n\tOrdinal0 [0x01233466+1193062]\n\tOrdinal0 [0x012558AA+1333418]\n\tOrdinal0 [0x01264F38+1396536]\n\tOrdinal0 [0x0125568B+1332875]\n\tOrdinal0 [0x012321D4+1188308]\n\tOrdinal0 [0x0123302F+1191983]\n\tGetHandleVerifier [0x014F67A6+1545030]\n\tGetHandleVerifier [0x015A105C+2243580]\n\tGetHandleVerifier [0x013FBC97+518199]\n\tGetHandleVerifier [0x013FAD80+514336]\n\tOrdinal0 [0x0130ED2D+2092333]\n\tOrdinal0 [0x01312EE8+2109160]\n\tOrdinal0 [0x01313022+2109474]\n\tOrdinal0 [0x0131CB71+2149233]\n\tBaseThreadInitThunk [0x75966A14+36]\n\tRtlInitializeExceptionChain [0x76F1A9EF+143]\n\tRtlInitializeExceptionChain [0x76F1A9BA+90]\n"
     ]
    }
   ],
   "source": [
    "sunglass = driver.find_element_by_class_name('_3OO5Xc')\n",
    "sunglass.send_keys('Sunglasses')\n",
    "search_b = driver.find_element_by_xpath(\"//button[@class='L0Z3Pu']/button\")\n",
    "search_b.click()"
   ]
  },
  {
   "cell_type": "code",
   "execution_count": null,
   "id": "11cf526b",
   "metadata": {},
   "outputs": [],
   "source": []
  }
 ],
 "metadata": {
  "kernelspec": {
   "display_name": "Python 3",
   "language": "python",
   "name": "python3"
  },
  "language_info": {
   "codemirror_mode": {
    "name": "ipython",
    "version": 3
   },
   "file_extension": ".py",
   "mimetype": "text/x-python",
   "name": "python",
   "nbconvert_exporter": "python",
   "pygments_lexer": "ipython3",
   "version": "3.8.8"
  }
 },
 "nbformat": 4,
 "nbformat_minor": 5
}
